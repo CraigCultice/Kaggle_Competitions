{
 "cells": [
  {
   "cell_type": "code",
   "execution_count": 1,
   "id": "6c54f4cb",
   "metadata": {
    "_cell_guid": "b1076dfc-b9ad-4769-8c92-a6c4dae69d19",
    "_uuid": "8f2839f25d086af736a60e9eeb907d3b93b6e0e5",
    "execution": {
     "iopub.execute_input": "2025-03-03T01:34:33.744650Z",
     "iopub.status.busy": "2025-03-03T01:34:33.744378Z",
     "iopub.status.idle": "2025-03-03T01:34:35.918487Z",
     "shell.execute_reply": "2025-03-03T01:34:35.917452Z"
    },
    "papermill": {
     "duration": 2.18062,
     "end_time": "2025-03-03T01:34:35.919802",
     "exception": false,
     "start_time": "2025-03-03T01:34:33.739182",
     "status": "completed"
    },
    "tags": []
   },
   "outputs": [
    {
     "name": "stdout",
     "output_type": "stream",
     "text": [
      "/kaggle/input/winter-2025-machine-learning-competition-1-p/sample_submission.csv\n",
      "/kaggle/input/winter-2025-machine-learning-competition-1-p/train.csv\n",
      "/kaggle/input/winter-2025-machine-learning-competition-1-p/test.csv\n"
     ]
    }
   ],
   "source": [
    "import numpy as np\n",
    "import pandas as pd\n",
    "import seaborn as sns\n",
    "import matplotlib.pyplot as plt\n",
    "\n",
    "import os\n",
    "for dirname, _, filenames in os.walk('/kaggle/input'):\n",
    "    for filename in filenames:\n",
    "        print(os.path.join(dirname, filename))"
   ]
  },
  {
   "cell_type": "code",
   "execution_count": 2,
   "id": "e8060f79",
   "metadata": {
    "execution": {
     "iopub.execute_input": "2025-03-03T01:34:35.928575Z",
     "iopub.status.busy": "2025-03-03T01:34:35.928132Z",
     "iopub.status.idle": "2025-03-03T01:34:39.189989Z",
     "shell.execute_reply": "2025-03-03T01:34:39.189150Z"
    },
    "papermill": {
     "duration": 3.267742,
     "end_time": "2025-03-03T01:34:39.191504",
     "exception": false,
     "start_time": "2025-03-03T01:34:35.923762",
     "status": "completed"
    },
    "tags": []
   },
   "outputs": [],
   "source": [
    "train_df = pd.read_csv(\"/kaggle/input/winter-2025-machine-learning-competition-1-p/train.csv\")\n",
    "test_df = pd.read_csv(\"/kaggle/input/winter-2025-machine-learning-competition-1-p/test.csv\", index_col=[0])"
   ]
  },
  {
   "cell_type": "code",
   "execution_count": 3,
   "id": "60dedfd9",
   "metadata": {
    "execution": {
     "iopub.execute_input": "2025-03-03T01:34:39.199864Z",
     "iopub.status.busy": "2025-03-03T01:34:39.199529Z",
     "iopub.status.idle": "2025-03-03T01:34:39.219042Z",
     "shell.execute_reply": "2025-03-03T01:34:39.218229Z"
    },
    "papermill": {
     "duration": 0.024974,
     "end_time": "2025-03-03T01:34:39.220324",
     "exception": false,
     "start_time": "2025-03-03T01:34:39.195350",
     "status": "completed"
    },
    "tags": []
   },
   "outputs": [],
   "source": [
    "#if 'Label' not in test_df.columns:\n",
    "    #test_df['Label'] = 0\n",
    "    #test_df.insert(loc=29, column = 'Label', value = 0)\n",
    "\n",
    "\n",
    "\n",
    "df = pd.concat([train_df, test_df], axis = 0)"
   ]
  },
  {
   "cell_type": "code",
   "execution_count": 4,
   "id": "bd9a4863",
   "metadata": {
    "execution": {
     "iopub.execute_input": "2025-03-03T01:34:39.228797Z",
     "iopub.status.busy": "2025-03-03T01:34:39.228473Z",
     "iopub.status.idle": "2025-03-03T01:34:39.256407Z",
     "shell.execute_reply": "2025-03-03T01:34:39.255397Z"
    },
    "papermill": {
     "duration": 0.033417,
     "end_time": "2025-03-03T01:34:39.257614",
     "exception": false,
     "start_time": "2025-03-03T01:34:39.224197",
     "status": "completed"
    },
    "tags": []
   },
   "outputs": [
    {
     "data": {
      "text/html": [
       "<div>\n",
       "<style scoped>\n",
       "    .dataframe tbody tr th:only-of-type {\n",
       "        vertical-align: middle;\n",
       "    }\n",
       "\n",
       "    .dataframe tbody tr th {\n",
       "        vertical-align: top;\n",
       "    }\n",
       "\n",
       "    .dataframe thead th {\n",
       "        text-align: right;\n",
       "    }\n",
       "</style>\n",
       "<table border=\"1\" class=\"dataframe\">\n",
       "  <thead>\n",
       "    <tr style=\"text-align: right;\">\n",
       "      <th></th>\n",
       "      <th>X1</th>\n",
       "      <th>X2</th>\n",
       "      <th>X3</th>\n",
       "      <th>X4</th>\n",
       "      <th>X5</th>\n",
       "      <th>X6</th>\n",
       "      <th>X7</th>\n",
       "      <th>X8</th>\n",
       "      <th>X9</th>\n",
       "      <th>X10</th>\n",
       "      <th>...</th>\n",
       "      <th>X22</th>\n",
       "      <th>X23</th>\n",
       "      <th>X24</th>\n",
       "      <th>X25</th>\n",
       "      <th>X26</th>\n",
       "      <th>X27</th>\n",
       "      <th>X28</th>\n",
       "      <th>X29</th>\n",
       "      <th>Label</th>\n",
       "      <th>Time</th>\n",
       "    </tr>\n",
       "  </thead>\n",
       "  <tbody>\n",
       "    <tr>\n",
       "      <th>0</th>\n",
       "      <td>-0.088213</td>\n",
       "      <td>-0.023162</td>\n",
       "      <td>0.668907</td>\n",
       "      <td>-0.024412</td>\n",
       "      <td>-0.135344</td>\n",
       "      <td>1.127264</td>\n",
       "      <td>-0.047674</td>\n",
       "      <td>0.062453</td>\n",
       "      <td>0.612125</td>\n",
       "      <td>-0.170337</td>\n",
       "      <td>...</td>\n",
       "      <td>-0.388204</td>\n",
       "      <td>-0.107234</td>\n",
       "      <td>0.096572</td>\n",
       "      <td>-0.374472</td>\n",
       "      <td>-0.316826</td>\n",
       "      <td>0.511417</td>\n",
       "      <td>-0.032564</td>\n",
       "      <td>0.598193</td>\n",
       "      <td>0</td>\n",
       "      <td>0.000000</td>\n",
       "    </tr>\n",
       "    <tr>\n",
       "      <th>1</th>\n",
       "      <td>-0.107234</td>\n",
       "      <td>0.133155</td>\n",
       "      <td>0.100388</td>\n",
       "      <td>-0.417936</td>\n",
       "      <td>0.029599</td>\n",
       "      <td>0.222118</td>\n",
       "      <td>-0.049331</td>\n",
       "      <td>0.054844</td>\n",
       "      <td>-0.351857</td>\n",
       "      <td>-0.167496</td>\n",
       "      <td>...</td>\n",
       "      <td>-0.102559</td>\n",
       "      <td>0.109613</td>\n",
       "      <td>-0.702298</td>\n",
       "      <td>-0.357710</td>\n",
       "      <td>0.347009</td>\n",
       "      <td>-0.072820</td>\n",
       "      <td>-0.032632</td>\n",
       "      <td>0.010755</td>\n",
       "      <td>0</td>\n",
       "      <td>0.000000</td>\n",
       "    </tr>\n",
       "    <tr>\n",
       "      <th>2</th>\n",
       "      <td>-0.088388</td>\n",
       "      <td>-0.614218</td>\n",
       "      <td>1.247813</td>\n",
       "      <td>-0.431052</td>\n",
       "      <td>-0.203786</td>\n",
       "      <td>2.031199</td>\n",
       "      <td>-0.029258</td>\n",
       "      <td>0.145734</td>\n",
       "      <td>-1.533352</td>\n",
       "      <td>-0.165292</td>\n",
       "      <td>...</td>\n",
       "      <td>0.059467</td>\n",
       "      <td>0.927852</td>\n",
       "      <td>-1.306390</td>\n",
       "      <td>-0.241200</td>\n",
       "      <td>-0.205855</td>\n",
       "      <td>-0.263291</td>\n",
       "      <td>-0.031625</td>\n",
       "      <td>1.513913</td>\n",
       "      <td>0</td>\n",
       "      <td>0.006367</td>\n",
       "    </tr>\n",
       "    <tr>\n",
       "      <th>3</th>\n",
       "      <td>-0.110742</td>\n",
       "      <td>0.413393</td>\n",
       "      <td>1.276252</td>\n",
       "      <td>-0.426834</td>\n",
       "      <td>-0.163922</td>\n",
       "      <td>0.527130</td>\n",
       "      <td>-0.038153</td>\n",
       "      <td>-0.144683</td>\n",
       "      <td>1.204301</td>\n",
       "      <td>-0.089479</td>\n",
       "      <td>...</td>\n",
       "      <td>0.095536</td>\n",
       "      <td>-0.134940</td>\n",
       "      <td>0.244121</td>\n",
       "      <td>-0.336443</td>\n",
       "      <td>1.046677</td>\n",
       "      <td>0.858741</td>\n",
       "      <td>-0.018805</td>\n",
       "      <td>0.279826</td>\n",
       "      <td>0</td>\n",
       "      <td>0.012735</td>\n",
       "    </tr>\n",
       "    <tr>\n",
       "      <th>4</th>\n",
       "      <td>-0.151862</td>\n",
       "      <td>0.659004</td>\n",
       "      <td>1.106422</td>\n",
       "      <td>-0.408339</td>\n",
       "      <td>0.395609</td>\n",
       "      <td>1.074282</td>\n",
       "      <td>-0.008887</td>\n",
       "      <td>-2.183966</td>\n",
       "      <td>0.962959</td>\n",
       "      <td>0.054305</td>\n",
       "      <td>...</td>\n",
       "      <td>0.435762</td>\n",
       "      <td>0.064861</td>\n",
       "      <td>-1.244456</td>\n",
       "      <td>-0.145681</td>\n",
       "      <td>-0.017092</td>\n",
       "      <td>-3.876938</td>\n",
       "      <td>0.320805</td>\n",
       "      <td>0.163122</td>\n",
       "      <td>0</td>\n",
       "      <td>0.044572</td>\n",
       "    </tr>\n",
       "  </tbody>\n",
       "</table>\n",
       "<p>5 rows × 31 columns</p>\n",
       "</div>"
      ],
      "text/plain": [
       "         X1        X2        X3        X4        X5        X6        X7  \\\n",
       "0 -0.088213 -0.023162  0.668907 -0.024412 -0.135344  1.127264 -0.047674   \n",
       "1 -0.107234  0.133155  0.100388 -0.417936  0.029599  0.222118 -0.049331   \n",
       "2 -0.088388 -0.614218  1.247813 -0.431052 -0.203786  2.031199 -0.029258   \n",
       "3 -0.110742  0.413393  1.276252 -0.426834 -0.163922  0.527130 -0.038153   \n",
       "4 -0.151862  0.659004  1.106422 -0.408339  0.395609  1.074282 -0.008887   \n",
       "\n",
       "         X8        X9       X10  ...       X22       X23       X24       X25  \\\n",
       "0  0.062453  0.612125 -0.170337  ... -0.388204 -0.107234  0.096572 -0.374472   \n",
       "1  0.054844 -0.351857 -0.167496  ... -0.102559  0.109613 -0.702298 -0.357710   \n",
       "2  0.145734 -1.533352 -0.165292  ...  0.059467  0.927852 -1.306390 -0.241200   \n",
       "3 -0.144683  1.204301 -0.089479  ...  0.095536 -0.134940  0.244121 -0.336443   \n",
       "4 -2.183966  0.962959  0.054305  ...  0.435762  0.064861 -1.244456 -0.145681   \n",
       "\n",
       "        X26       X27       X28       X29  Label      Time  \n",
       "0 -0.316826  0.511417 -0.032564  0.598193      0  0.000000  \n",
       "1  0.347009 -0.072820 -0.032632  0.010755      0  0.000000  \n",
       "2 -0.205855 -0.263291 -0.031625  1.513913      0  0.006367  \n",
       "3  1.046677  0.858741 -0.018805  0.279826      0  0.012735  \n",
       "4 -0.017092 -3.876938  0.320805  0.163122      0  0.044572  \n",
       "\n",
       "[5 rows x 31 columns]"
      ]
     },
     "execution_count": 4,
     "metadata": {},
     "output_type": "execute_result"
    }
   ],
   "source": [
    "train_df.head()"
   ]
  },
  {
   "cell_type": "code",
   "execution_count": 5,
   "id": "088ddb90",
   "metadata": {
    "execution": {
     "iopub.execute_input": "2025-03-03T01:34:39.266329Z",
     "iopub.status.busy": "2025-03-03T01:34:39.266011Z",
     "iopub.status.idle": "2025-03-03T01:34:39.282012Z",
     "shell.execute_reply": "2025-03-03T01:34:39.281237Z"
    },
    "papermill": {
     "duration": 0.021525,
     "end_time": "2025-03-03T01:34:39.283093",
     "exception": false,
     "start_time": "2025-03-03T01:34:39.261568",
     "status": "completed"
    },
    "tags": []
   },
   "outputs": [
    {
     "data": {
      "text/html": [
       "<div>\n",
       "<style scoped>\n",
       "    .dataframe tbody tr th:only-of-type {\n",
       "        vertical-align: middle;\n",
       "    }\n",
       "\n",
       "    .dataframe tbody tr th {\n",
       "        vertical-align: top;\n",
       "    }\n",
       "\n",
       "    .dataframe thead th {\n",
       "        text-align: right;\n",
       "    }\n",
       "</style>\n",
       "<table border=\"1\" class=\"dataframe\">\n",
       "  <thead>\n",
       "    <tr style=\"text-align: right;\">\n",
       "      <th></th>\n",
       "      <th>X1</th>\n",
       "      <th>X2</th>\n",
       "      <th>X3</th>\n",
       "      <th>X4</th>\n",
       "      <th>X5</th>\n",
       "      <th>X6</th>\n",
       "      <th>X7</th>\n",
       "      <th>X8</th>\n",
       "      <th>X9</th>\n",
       "      <th>X10</th>\n",
       "      <th>...</th>\n",
       "      <th>X21</th>\n",
       "      <th>X22</th>\n",
       "      <th>X23</th>\n",
       "      <th>X24</th>\n",
       "      <th>X25</th>\n",
       "      <th>X26</th>\n",
       "      <th>X27</th>\n",
       "      <th>X28</th>\n",
       "      <th>X29</th>\n",
       "      <th>Time</th>\n",
       "    </tr>\n",
       "    <tr>\n",
       "      <th>id</th>\n",
       "      <th></th>\n",
       "      <th></th>\n",
       "      <th></th>\n",
       "      <th></th>\n",
       "      <th></th>\n",
       "      <th></th>\n",
       "      <th></th>\n",
       "      <th></th>\n",
       "      <th></th>\n",
       "      <th></th>\n",
       "      <th></th>\n",
       "      <th></th>\n",
       "      <th></th>\n",
       "      <th></th>\n",
       "      <th></th>\n",
       "      <th></th>\n",
       "      <th></th>\n",
       "      <th></th>\n",
       "      <th></th>\n",
       "      <th></th>\n",
       "      <th></th>\n",
       "    </tr>\n",
       "  </thead>\n",
       "  <tbody>\n",
       "    <tr>\n",
       "      <th>0</th>\n",
       "      <td>-0.128843</td>\n",
       "      <td>-0.075184</td>\n",
       "      <td>1.241935</td>\n",
       "      <td>-0.291795</td>\n",
       "      <td>0.000521</td>\n",
       "      <td>1.987282</td>\n",
       "      <td>-0.047704</td>\n",
       "      <td>0.218133</td>\n",
       "      <td>-1.509171</td>\n",
       "      <td>-0.171093</td>\n",
       "      <td>...</td>\n",
       "      <td>-0.288346</td>\n",
       "      <td>-0.454855</td>\n",
       "      <td>-0.189265</td>\n",
       "      <td>-1.879122</td>\n",
       "      <td>0.216234</td>\n",
       "      <td>-0.390878</td>\n",
       "      <td>0.221733</td>\n",
       "      <td>-0.031563</td>\n",
       "      <td>0.493763</td>\n",
       "      <td>0.006367</td>\n",
       "    </tr>\n",
       "    <tr>\n",
       "      <th>1</th>\n",
       "      <td>-0.162232</td>\n",
       "      <td>0.451148</td>\n",
       "      <td>1.148436</td>\n",
       "      <td>-0.457910</td>\n",
       "      <td>0.178571</td>\n",
       "      <td>0.312135</td>\n",
       "      <td>-0.042192</td>\n",
       "      <td>0.152791</td>\n",
       "      <td>-0.804730</td>\n",
       "      <td>-0.151572</td>\n",
       "      <td>...</td>\n",
       "      <td>-0.599229</td>\n",
       "      <td>-0.184181</td>\n",
       "      <td>-0.021016</td>\n",
       "      <td>-0.761387</td>\n",
       "      <td>-0.319197</td>\n",
       "      <td>0.307229</td>\n",
       "      <td>0.996272</td>\n",
       "      <td>-0.030724</td>\n",
       "      <td>0.014673</td>\n",
       "      <td>0.012735</td>\n",
       "    </tr>\n",
       "    <tr>\n",
       "      <th>2</th>\n",
       "      <td>-0.103172</td>\n",
       "      <td>0.075521</td>\n",
       "      <td>-0.069295</td>\n",
       "      <td>-0.129377</td>\n",
       "      <td>0.084074</td>\n",
       "      <td>0.824473</td>\n",
       "      <td>-0.049531</td>\n",
       "      <td>0.052668</td>\n",
       "      <td>0.758783</td>\n",
       "      <td>-0.170104</td>\n",
       "      <td>...</td>\n",
       "      <td>-0.473756</td>\n",
       "      <td>-0.391582</td>\n",
       "      <td>-0.152039</td>\n",
       "      <td>-1.440799</td>\n",
       "      <td>0.426956</td>\n",
       "      <td>-0.471701</td>\n",
       "      <td>0.105904</td>\n",
       "      <td>-0.032689</td>\n",
       "      <td>0.019950</td>\n",
       "      <td>0.025469</td>\n",
       "    </tr>\n",
       "    <tr>\n",
       "      <th>3</th>\n",
       "      <td>-0.077087</td>\n",
       "      <td>-0.537229</td>\n",
       "      <td>0.983162</td>\n",
       "      <td>-0.026000</td>\n",
       "      <td>-0.817673</td>\n",
       "      <td>-0.645059</td>\n",
       "      <td>0.016027</td>\n",
       "      <td>0.034329</td>\n",
       "      <td>-1.518150</td>\n",
       "      <td>0.211293</td>\n",
       "      <td>...</td>\n",
       "      <td>0.022929</td>\n",
       "      <td>-0.369776</td>\n",
       "      <td>0.034415</td>\n",
       "      <td>0.920944</td>\n",
       "      <td>-0.306002</td>\n",
       "      <td>-0.184772</td>\n",
       "      <td>0.140167</td>\n",
       "      <td>-0.032618</td>\n",
       "      <td>0.031185</td>\n",
       "      <td>0.063674</td>\n",
       "    </tr>\n",
       "    <tr>\n",
       "      <th>4</th>\n",
       "      <td>-0.100933</td>\n",
       "      <td>-0.558499</td>\n",
       "      <td>0.394839</td>\n",
       "      <td>-0.111144</td>\n",
       "      <td>-0.613590</td>\n",
       "      <td>-0.808732</td>\n",
       "      <td>-0.034149</td>\n",
       "      <td>-0.120481</td>\n",
       "      <td>-1.323901</td>\n",
       "      <td>0.081985</td>\n",
       "      <td>...</td>\n",
       "      <td>-0.671661</td>\n",
       "      <td>-0.253141</td>\n",
       "      <td>0.092630</td>\n",
       "      <td>0.727186</td>\n",
       "      <td>-0.360618</td>\n",
       "      <td>-0.701946</td>\n",
       "      <td>0.072661</td>\n",
       "      <td>-0.032157</td>\n",
       "      <td>0.485767</td>\n",
       "      <td>0.063674</td>\n",
       "    </tr>\n",
       "  </tbody>\n",
       "</table>\n",
       "<p>5 rows × 30 columns</p>\n",
       "</div>"
      ],
      "text/plain": [
       "          X1        X2        X3        X4        X5        X6        X7  \\\n",
       "id                                                                         \n",
       "0  -0.128843 -0.075184  1.241935 -0.291795  0.000521  1.987282 -0.047704   \n",
       "1  -0.162232  0.451148  1.148436 -0.457910  0.178571  0.312135 -0.042192   \n",
       "2  -0.103172  0.075521 -0.069295 -0.129377  0.084074  0.824473 -0.049531   \n",
       "3  -0.077087 -0.537229  0.983162 -0.026000 -0.817673 -0.645059  0.016027   \n",
       "4  -0.100933 -0.558499  0.394839 -0.111144 -0.613590 -0.808732 -0.034149   \n",
       "\n",
       "          X8        X9       X10  ...       X21       X22       X23       X24  \\\n",
       "id                                ...                                           \n",
       "0   0.218133 -1.509171 -0.171093  ... -0.288346 -0.454855 -0.189265 -1.879122   \n",
       "1   0.152791 -0.804730 -0.151572  ... -0.599229 -0.184181 -0.021016 -0.761387   \n",
       "2   0.052668  0.758783 -0.170104  ... -0.473756 -0.391582 -0.152039 -1.440799   \n",
       "3   0.034329 -1.518150  0.211293  ...  0.022929 -0.369776  0.034415  0.920944   \n",
       "4  -0.120481 -1.323901  0.081985  ... -0.671661 -0.253141  0.092630  0.727186   \n",
       "\n",
       "         X25       X26       X27       X28       X29      Time  \n",
       "id                                                              \n",
       "0   0.216234 -0.390878  0.221733 -0.031563  0.493763  0.006367  \n",
       "1  -0.319197  0.307229  0.996272 -0.030724  0.014673  0.012735  \n",
       "2   0.426956 -0.471701  0.105904 -0.032689  0.019950  0.025469  \n",
       "3  -0.306002 -0.184772  0.140167 -0.032618  0.031185  0.063674  \n",
       "4  -0.360618 -0.701946  0.072661 -0.032157  0.485767  0.063674  \n",
       "\n",
       "[5 rows x 30 columns]"
      ]
     },
     "execution_count": 5,
     "metadata": {},
     "output_type": "execute_result"
    }
   ],
   "source": [
    "test_df.head()"
   ]
  },
  {
   "cell_type": "code",
   "execution_count": 6,
   "id": "06b95ef6",
   "metadata": {
    "execution": {
     "iopub.execute_input": "2025-03-03T01:34:39.292202Z",
     "iopub.status.busy": "2025-03-03T01:34:39.291833Z",
     "iopub.status.idle": "2025-03-03T01:34:39.308110Z",
     "shell.execute_reply": "2025-03-03T01:34:39.307420Z"
    },
    "papermill": {
     "duration": 0.022094,
     "end_time": "2025-03-03T01:34:39.309275",
     "exception": false,
     "start_time": "2025-03-03T01:34:39.287181",
     "status": "completed"
    },
    "tags": []
   },
   "outputs": [
    {
     "data": {
      "text/html": [
       "<div>\n",
       "<style scoped>\n",
       "    .dataframe tbody tr th:only-of-type {\n",
       "        vertical-align: middle;\n",
       "    }\n",
       "\n",
       "    .dataframe tbody tr th {\n",
       "        vertical-align: top;\n",
       "    }\n",
       "\n",
       "    .dataframe thead th {\n",
       "        text-align: right;\n",
       "    }\n",
       "</style>\n",
       "<table border=\"1\" class=\"dataframe\">\n",
       "  <thead>\n",
       "    <tr style=\"text-align: right;\">\n",
       "      <th></th>\n",
       "      <th>X1</th>\n",
       "      <th>X2</th>\n",
       "      <th>X3</th>\n",
       "      <th>X4</th>\n",
       "      <th>X5</th>\n",
       "      <th>X6</th>\n",
       "      <th>X7</th>\n",
       "      <th>X8</th>\n",
       "      <th>X9</th>\n",
       "      <th>X10</th>\n",
       "      <th>...</th>\n",
       "      <th>X22</th>\n",
       "      <th>X23</th>\n",
       "      <th>X24</th>\n",
       "      <th>X25</th>\n",
       "      <th>X26</th>\n",
       "      <th>X27</th>\n",
       "      <th>X28</th>\n",
       "      <th>X29</th>\n",
       "      <th>Label</th>\n",
       "      <th>Time</th>\n",
       "    </tr>\n",
       "  </thead>\n",
       "  <tbody>\n",
       "    <tr>\n",
       "      <th>0</th>\n",
       "      <td>-0.088213</td>\n",
       "      <td>-0.023162</td>\n",
       "      <td>0.668907</td>\n",
       "      <td>-0.024412</td>\n",
       "      <td>-0.135344</td>\n",
       "      <td>1.127264</td>\n",
       "      <td>-0.047674</td>\n",
       "      <td>0.062453</td>\n",
       "      <td>0.612125</td>\n",
       "      <td>-0.170337</td>\n",
       "      <td>...</td>\n",
       "      <td>-0.388204</td>\n",
       "      <td>-0.107234</td>\n",
       "      <td>0.096572</td>\n",
       "      <td>-0.374472</td>\n",
       "      <td>-0.316826</td>\n",
       "      <td>0.511417</td>\n",
       "      <td>-0.032564</td>\n",
       "      <td>0.598193</td>\n",
       "      <td>0.0</td>\n",
       "      <td>0.000000</td>\n",
       "    </tr>\n",
       "    <tr>\n",
       "      <th>1</th>\n",
       "      <td>-0.107234</td>\n",
       "      <td>0.133155</td>\n",
       "      <td>0.100388</td>\n",
       "      <td>-0.417936</td>\n",
       "      <td>0.029599</td>\n",
       "      <td>0.222118</td>\n",
       "      <td>-0.049331</td>\n",
       "      <td>0.054844</td>\n",
       "      <td>-0.351857</td>\n",
       "      <td>-0.167496</td>\n",
       "      <td>...</td>\n",
       "      <td>-0.102559</td>\n",
       "      <td>0.109613</td>\n",
       "      <td>-0.702298</td>\n",
       "      <td>-0.357710</td>\n",
       "      <td>0.347009</td>\n",
       "      <td>-0.072820</td>\n",
       "      <td>-0.032632</td>\n",
       "      <td>0.010755</td>\n",
       "      <td>0.0</td>\n",
       "      <td>0.000000</td>\n",
       "    </tr>\n",
       "    <tr>\n",
       "      <th>2</th>\n",
       "      <td>-0.088388</td>\n",
       "      <td>-0.614218</td>\n",
       "      <td>1.247813</td>\n",
       "      <td>-0.431052</td>\n",
       "      <td>-0.203786</td>\n",
       "      <td>2.031199</td>\n",
       "      <td>-0.029258</td>\n",
       "      <td>0.145734</td>\n",
       "      <td>-1.533352</td>\n",
       "      <td>-0.165292</td>\n",
       "      <td>...</td>\n",
       "      <td>0.059467</td>\n",
       "      <td>0.927852</td>\n",
       "      <td>-1.306390</td>\n",
       "      <td>-0.241200</td>\n",
       "      <td>-0.205855</td>\n",
       "      <td>-0.263291</td>\n",
       "      <td>-0.031625</td>\n",
       "      <td>1.513913</td>\n",
       "      <td>0.0</td>\n",
       "      <td>0.006367</td>\n",
       "    </tr>\n",
       "    <tr>\n",
       "      <th>3</th>\n",
       "      <td>-0.110742</td>\n",
       "      <td>0.413393</td>\n",
       "      <td>1.276252</td>\n",
       "      <td>-0.426834</td>\n",
       "      <td>-0.163922</td>\n",
       "      <td>0.527130</td>\n",
       "      <td>-0.038153</td>\n",
       "      <td>-0.144683</td>\n",
       "      <td>1.204301</td>\n",
       "      <td>-0.089479</td>\n",
       "      <td>...</td>\n",
       "      <td>0.095536</td>\n",
       "      <td>-0.134940</td>\n",
       "      <td>0.244121</td>\n",
       "      <td>-0.336443</td>\n",
       "      <td>1.046677</td>\n",
       "      <td>0.858741</td>\n",
       "      <td>-0.018805</td>\n",
       "      <td>0.279826</td>\n",
       "      <td>0.0</td>\n",
       "      <td>0.012735</td>\n",
       "    </tr>\n",
       "    <tr>\n",
       "      <th>4</th>\n",
       "      <td>-0.151862</td>\n",
       "      <td>0.659004</td>\n",
       "      <td>1.106422</td>\n",
       "      <td>-0.408339</td>\n",
       "      <td>0.395609</td>\n",
       "      <td>1.074282</td>\n",
       "      <td>-0.008887</td>\n",
       "      <td>-2.183966</td>\n",
       "      <td>0.962959</td>\n",
       "      <td>0.054305</td>\n",
       "      <td>...</td>\n",
       "      <td>0.435762</td>\n",
       "      <td>0.064861</td>\n",
       "      <td>-1.244456</td>\n",
       "      <td>-0.145681</td>\n",
       "      <td>-0.017092</td>\n",
       "      <td>-3.876938</td>\n",
       "      <td>0.320805</td>\n",
       "      <td>0.163122</td>\n",
       "      <td>0.0</td>\n",
       "      <td>0.044572</td>\n",
       "    </tr>\n",
       "  </tbody>\n",
       "</table>\n",
       "<p>5 rows × 31 columns</p>\n",
       "</div>"
      ],
      "text/plain": [
       "         X1        X2        X3        X4        X5        X6        X7  \\\n",
       "0 -0.088213 -0.023162  0.668907 -0.024412 -0.135344  1.127264 -0.047674   \n",
       "1 -0.107234  0.133155  0.100388 -0.417936  0.029599  0.222118 -0.049331   \n",
       "2 -0.088388 -0.614218  1.247813 -0.431052 -0.203786  2.031199 -0.029258   \n",
       "3 -0.110742  0.413393  1.276252 -0.426834 -0.163922  0.527130 -0.038153   \n",
       "4 -0.151862  0.659004  1.106422 -0.408339  0.395609  1.074282 -0.008887   \n",
       "\n",
       "         X8        X9       X10  ...       X22       X23       X24       X25  \\\n",
       "0  0.062453  0.612125 -0.170337  ... -0.388204 -0.107234  0.096572 -0.374472   \n",
       "1  0.054844 -0.351857 -0.167496  ... -0.102559  0.109613 -0.702298 -0.357710   \n",
       "2  0.145734 -1.533352 -0.165292  ...  0.059467  0.927852 -1.306390 -0.241200   \n",
       "3 -0.144683  1.204301 -0.089479  ...  0.095536 -0.134940  0.244121 -0.336443   \n",
       "4 -2.183966  0.962959  0.054305  ...  0.435762  0.064861 -1.244456 -0.145681   \n",
       "\n",
       "        X26       X27       X28       X29  Label      Time  \n",
       "0 -0.316826  0.511417 -0.032564  0.598193    0.0  0.000000  \n",
       "1  0.347009 -0.072820 -0.032632  0.010755    0.0  0.000000  \n",
       "2 -0.205855 -0.263291 -0.031625  1.513913    0.0  0.006367  \n",
       "3  1.046677  0.858741 -0.018805  0.279826    0.0  0.012735  \n",
       "4 -0.017092 -3.876938  0.320805  0.163122    0.0  0.044572  \n",
       "\n",
       "[5 rows x 31 columns]"
      ]
     },
     "execution_count": 6,
     "metadata": {},
     "output_type": "execute_result"
    }
   ],
   "source": [
    "df.head()"
   ]
  },
  {
   "cell_type": "code",
   "execution_count": 7,
   "id": "88037cb8",
   "metadata": {
    "execution": {
     "iopub.execute_input": "2025-03-03T01:34:39.318395Z",
     "iopub.status.busy": "2025-03-03T01:34:39.318160Z",
     "iopub.status.idle": "2025-03-03T01:34:40.163216Z",
     "shell.execute_reply": "2025-03-03T01:34:40.162443Z"
    },
    "papermill": {
     "duration": 0.851074,
     "end_time": "2025-03-03T01:34:40.164707",
     "exception": false,
     "start_time": "2025-03-03T01:34:39.313633",
     "status": "completed"
    },
    "tags": []
   },
   "outputs": [],
   "source": [
    "from sklearn.discriminant_analysis import LinearDiscriminantAnalysis as LDA\n",
    "from sklearn.metrics import roc_auc_score\n",
    "\n",
    "from sklearn.model_selection import train_test_split\n",
    "from sklearn.metrics import mean_squared_error\n",
    "from sklearn.linear_model import LinearRegression\n",
    "from xgboost import XGBRegressor\n",
    "from xgboost import XGBClassifier\n",
    "from sklearn.ensemble import RandomForestRegressor\n",
    "from sklearn.model_selection import GridSearchCV"
   ]
  },
  {
   "cell_type": "code",
   "execution_count": 8,
   "id": "8713cf07",
   "metadata": {
    "execution": {
     "iopub.execute_input": "2025-03-03T01:34:40.174147Z",
     "iopub.status.busy": "2025-03-03T01:34:40.173880Z",
     "iopub.status.idle": "2025-03-03T01:34:40.224253Z",
     "shell.execute_reply": "2025-03-03T01:34:40.223397Z"
    },
    "papermill": {
     "duration": 0.056361,
     "end_time": "2025-03-03T01:34:40.225475",
     "exception": false,
     "start_time": "2025-03-03T01:34:40.169114",
     "status": "completed"
    },
    "tags": []
   },
   "outputs": [
    {
     "data": {
      "text/plain": [
       "((170889, 30), (170889,), (136711, 30), (136711, 1), (34178, 30), (34178, 1))"
      ]
     },
     "execution_count": 8,
     "metadata": {},
     "output_type": "execute_result"
    }
   ],
   "source": [
    "X = train_df.drop(columns = 'Label')\n",
    "y = train_df['Label']\n",
    "X_train, X_test, Y_train, Y_test = train_test_split(X, y, test_size = 0.2)\n",
    "Y_train = np.reshape(Y_train, (-1, 1))\n",
    "Y_test = np.reshape(Y_test, (-1, 1))\n",
    "X.shape, y.shape, X_train.shape, Y_train.shape, X_test.shape, Y_test.shape"
   ]
  },
  {
   "cell_type": "code",
   "execution_count": 9,
   "id": "a8e6cd8e",
   "metadata": {
    "execution": {
     "iopub.execute_input": "2025-03-03T01:34:40.235452Z",
     "iopub.status.busy": "2025-03-03T01:34:40.235124Z",
     "iopub.status.idle": "2025-03-03T01:34:40.240336Z",
     "shell.execute_reply": "2025-03-03T01:34:40.239505Z"
    },
    "papermill": {
     "duration": 0.011505,
     "end_time": "2025-03-03T01:34:40.241489",
     "exception": false,
     "start_time": "2025-03-03T01:34:40.229984",
     "status": "completed"
    },
    "tags": []
   },
   "outputs": [
    {
     "data": {
      "text/plain": [
       "((170889, 31), (113918, 30))"
      ]
     },
     "execution_count": 9,
     "metadata": {},
     "output_type": "execute_result"
    }
   ],
   "source": [
    "train_df.shape, test_df.shape"
   ]
  },
  {
   "cell_type": "markdown",
   "id": "6cf19fb0",
   "metadata": {
    "execution": {
     "iopub.execute_input": "2025-03-03T00:46:29.693758Z",
     "iopub.status.busy": "2025-03-03T00:46:29.693347Z",
     "iopub.status.idle": "2025-03-03T00:46:30.060389Z",
     "shell.execute_reply": "2025-03-03T00:46:30.059432Z",
     "shell.execute_reply.started": "2025-03-03T00:46:29.693720Z"
    },
    "papermill": {
     "duration": 0.004078,
     "end_time": "2025-03-03T01:34:40.250047",
     "exception": false,
     "start_time": "2025-03-03T01:34:40.245969",
     "status": "completed"
    },
    "tags": []
   },
   "source": [
    "linear_model = LinearRegression()\n",
    "linear_model.fit(X, y)\n",
    "pred_test = linear_model.predict(X_test)\n",
    "mean_squared_error(Y_test, pred_test)"
   ]
  },
  {
   "cell_type": "markdown",
   "id": "b1ad7651",
   "metadata": {
    "execution": {
     "iopub.execute_input": "2025-03-03T00:29:05.331921Z",
     "iopub.status.busy": "2025-03-03T00:29:05.331529Z",
     "iopub.status.idle": "2025-03-03T00:29:05.353854Z",
     "shell.execute_reply": "2025-03-03T00:29:05.352432Z",
     "shell.execute_reply.started": "2025-03-03T00:29:05.331892Z"
    },
    "papermill": {
     "duration": 0.003897,
     "end_time": "2025-03-03T01:34:40.258076",
     "exception": false,
     "start_time": "2025-03-03T01:34:40.254179",
     "status": "completed"
    },
    "tags": []
   },
   "source": [
    "XGB_model = XGBRegressor(n_estimators=100, learning_rate=0.1)\n",
    "XGB_model.fit(X, y)\n",
    "pred_test = XGB_model.predict(X_test)\n",
    "mean_squared_error(Y_test, pred_test)"
   ]
  },
  {
   "cell_type": "code",
   "execution_count": 10,
   "id": "4a7baf04",
   "metadata": {
    "execution": {
     "iopub.execute_input": "2025-03-03T01:34:40.267585Z",
     "iopub.status.busy": "2025-03-03T01:34:40.267255Z",
     "iopub.status.idle": "2025-03-03T01:35:06.094446Z",
     "shell.execute_reply": "2025-03-03T01:35:06.092698Z"
    },
    "papermill": {
     "duration": 25.833621,
     "end_time": "2025-03-03T01:35:06.095861",
     "exception": false,
     "start_time": "2025-03-03T01:34:40.262240",
     "status": "completed"
    },
    "tags": []
   },
   "outputs": [
    {
     "name": "stdout",
     "output_type": "stream",
     "text": [
      "Fitting 5 folds for each of 6 candidates, totalling 30 fits\n",
      "[CV] END .................................learning_rate=0.01; total time=   0.9s\n",
      "[CV] END .................................learning_rate=0.01; total time=   0.7s\n",
      "[CV] END .................................learning_rate=0.01; total time=   0.6s\n",
      "[CV] END .................................learning_rate=0.01; total time=   0.6s\n",
      "[CV] END .................................learning_rate=0.01; total time=   0.7s\n",
      "[CV] END .................................learning_rate=0.03; total time=   0.7s\n",
      "[CV] END .................................learning_rate=0.03; total time=   0.7s\n",
      "[CV] END .................................learning_rate=0.03; total time=   0.7s\n",
      "[CV] END .................................learning_rate=0.03; total time=   0.7s\n",
      "[CV] END .................................learning_rate=0.03; total time=   0.7s\n",
      "[CV] END .................................learning_rate=0.05; total time=   0.8s\n",
      "[CV] END .................................learning_rate=0.05; total time=   0.7s\n",
      "[CV] END .................................learning_rate=0.05; total time=   0.8s\n",
      "[CV] END .................................learning_rate=0.05; total time=   0.7s\n",
      "[CV] END .................................learning_rate=0.05; total time=   0.9s\n",
      "[CV] END ..................................learning_rate=0.1; total time=   0.9s\n",
      "[CV] END ..................................learning_rate=0.1; total time=   1.8s\n",
      "[CV] END ..................................learning_rate=0.1; total time=   0.8s\n",
      "[CV] END ..................................learning_rate=0.1; total time=   0.9s\n",
      "[CV] END ..................................learning_rate=0.1; total time=   0.9s\n",
      "[CV] END ..................................learning_rate=0.2; total time=   0.8s\n",
      "[CV] END ..................................learning_rate=0.2; total time=   0.9s\n",
      "[CV] END ..................................learning_rate=0.2; total time=   0.9s\n",
      "[CV] END ..................................learning_rate=0.2; total time=   0.9s\n",
      "[CV] END ..................................learning_rate=0.2; total time=   0.9s\n",
      "[CV] END ..................................learning_rate=0.3; total time=   0.8s\n",
      "[CV] END ..................................learning_rate=0.3; total time=   0.9s\n",
      "[CV] END ..................................learning_rate=0.3; total time=   0.9s\n",
      "[CV] END ..................................learning_rate=0.3; total time=   0.9s\n",
      "[CV] END ..................................learning_rate=0.3; total time=   0.8s\n",
      "0.05\n"
     ]
    }
   ],
   "source": [
    "learning_grid = {'learning_rate': [0.01, 0.03, 0.05, 0.1, 0.2, 0.3]}\n",
    "grid_search = GridSearchCV(\n",
    "    XGBClassifier(n_estimators=100),\n",
    "    learning_grid,\n",
    "    scoring=\"roc_auc\", cv=5, verbose=2)\n",
    "grid_search.fit(X_train, Y_train)\n",
    "print(grid_search.best_params_['learning_rate'])"
   ]
  },
  {
   "cell_type": "code",
   "execution_count": 11,
   "id": "052430dc",
   "metadata": {
    "execution": {
     "iopub.execute_input": "2025-03-03T01:35:06.108799Z",
     "iopub.status.busy": "2025-03-03T01:35:06.108475Z",
     "iopub.status.idle": "2025-03-03T01:35:51.917185Z",
     "shell.execute_reply": "2025-03-03T01:35:51.916293Z"
    },
    "papermill": {
     "duration": 45.820762,
     "end_time": "2025-03-03T01:35:51.922725",
     "exception": false,
     "start_time": "2025-03-03T01:35:06.101963",
     "status": "completed"
    },
    "tags": []
   },
   "outputs": [
    {
     "name": "stdout",
     "output_type": "stream",
     "text": [
      "Fitting 5 folds for each of 7 candidates, totalling 35 fits\n",
      "1000\n"
     ]
    }
   ],
   "source": [
    "estimator_grid = {'n_estimators': [30, 50, 70, 100, 150, 200, 1000]}\n",
    "grid_search = GridSearchCV(\n",
    "    XGBClassifier(enable_categorical=True), \n",
    "    estimator_grid, cv=5, scoring=\"roc_auc\", verbose=2, n_jobs=-1)\n",
    "grid_search.fit(X_train, Y_train)\n",
    "print(grid_search.best_params_['n_estimators'])"
   ]
  },
  {
   "cell_type": "code",
   "execution_count": 12,
   "id": "18259a3c",
   "metadata": {
    "execution": {
     "iopub.execute_input": "2025-03-03T01:35:51.934564Z",
     "iopub.status.busy": "2025-03-03T01:35:51.934283Z",
     "iopub.status.idle": "2025-03-03T01:35:53.547679Z",
     "shell.execute_reply": "2025-03-03T01:35:53.547075Z"
    },
    "papermill": {
     "duration": 1.620752,
     "end_time": "2025-03-03T01:35:53.548842",
     "exception": false,
     "start_time": "2025-03-03T01:35:51.928090",
     "status": "completed"
    },
    "tags": []
   },
   "outputs": [
    {
     "name": "stdout",
     "output_type": "stream",
     "text": [
      "[0]\tvalidation_0-logloss:0.09479\n",
      "[1]\tvalidation_0-logloss:0.06967\n",
      "[2]\tvalidation_0-logloss:0.05157\n",
      "[3]\tvalidation_0-logloss:0.03854\n",
      "[4]\tvalidation_0-logloss:0.02905\n",
      "[5]\tvalidation_0-logloss:0.02212\n",
      "[6]\tvalidation_0-logloss:0.01701\n",
      "[7]\tvalidation_0-logloss:0.01330\n",
      "[8]\tvalidation_0-logloss:0.01057\n",
      "[9]\tvalidation_0-logloss:0.00858\n",
      "[10]\tvalidation_0-logloss:0.00714\n",
      "[11]\tvalidation_0-logloss:0.00605\n",
      "[12]\tvalidation_0-logloss:0.00526\n",
      "[13]\tvalidation_0-logloss:0.00472\n",
      "[14]\tvalidation_0-logloss:0.00433\n",
      "[15]\tvalidation_0-logloss:0.00405\n",
      "[16]\tvalidation_0-logloss:0.00381\n",
      "[17]\tvalidation_0-logloss:0.00366\n",
      "[18]\tvalidation_0-logloss:0.00353\n",
      "[19]\tvalidation_0-logloss:0.00345\n",
      "[20]\tvalidation_0-logloss:0.00338\n",
      "[21]\tvalidation_0-logloss:0.00335\n",
      "[22]\tvalidation_0-logloss:0.00328\n",
      "[23]\tvalidation_0-logloss:0.00322\n",
      "[24]\tvalidation_0-logloss:0.00323\n",
      "[25]\tvalidation_0-logloss:0.00326\n",
      "[26]\tvalidation_0-logloss:0.00328\n",
      "[27]\tvalidation_0-logloss:0.00326\n",
      "[28]\tvalidation_0-logloss:0.00330\n",
      "[29]\tvalidation_0-logloss:0.00334\n",
      "[30]\tvalidation_0-logloss:0.00338\n",
      "[31]\tvalidation_0-logloss:0.00337\n",
      "[32]\tvalidation_0-logloss:0.00341\n",
      "[33]\tvalidation_0-logloss:0.00345\n",
      "[34]\tvalidation_0-logloss:0.00345\n",
      "[35]\tvalidation_0-logloss:0.00348\n",
      "[36]\tvalidation_0-logloss:0.00350\n",
      "[37]\tvalidation_0-logloss:0.00353\n",
      "[38]\tvalidation_0-logloss:0.00350\n",
      "[39]\tvalidation_0-logloss:0.00350\n",
      "[40]\tvalidation_0-logloss:0.00354\n",
      "[41]\tvalidation_0-logloss:0.00357\n",
      "[42]\tvalidation_0-logloss:0.00359\n",
      "[43]\tvalidation_0-logloss:0.00363\n",
      "[44]\tvalidation_0-logloss:0.00367\n",
      "[45]\tvalidation_0-logloss:0.00367\n",
      "[46]\tvalidation_0-logloss:0.00369\n",
      "[47]\tvalidation_0-logloss:0.00370\n",
      "[48]\tvalidation_0-logloss:0.00372\n",
      "[49]\tvalidation_0-logloss:0.00372\n",
      "[50]\tvalidation_0-logloss:0.00372\n",
      "[51]\tvalidation_0-logloss:0.00373\n",
      "[52]\tvalidation_0-logloss:0.00374\n",
      "[53]\tvalidation_0-logloss:0.00375\n",
      "[54]\tvalidation_0-logloss:0.00375\n",
      "[55]\tvalidation_0-logloss:0.00374\n",
      "[56]\tvalidation_0-logloss:0.00376\n",
      "[57]\tvalidation_0-logloss:0.00377\n",
      "[58]\tvalidation_0-logloss:0.00377\n",
      "[59]\tvalidation_0-logloss:0.00378\n",
      "[60]\tvalidation_0-logloss:0.00379\n",
      "[61]\tvalidation_0-logloss:0.00381\n",
      "[62]\tvalidation_0-logloss:0.00381\n",
      "[63]\tvalidation_0-logloss:0.00382\n",
      "[64]\tvalidation_0-logloss:0.00384\n",
      "[65]\tvalidation_0-logloss:0.00383\n",
      "[66]\tvalidation_0-logloss:0.00383\n",
      "[67]\tvalidation_0-logloss:0.00383\n",
      "[68]\tvalidation_0-logloss:0.00382\n",
      "[69]\tvalidation_0-logloss:0.00383\n",
      "[70]\tvalidation_0-logloss:0.00385\n",
      "[71]\tvalidation_0-logloss:0.00386\n",
      "[72]\tvalidation_0-logloss:0.00386\n",
      "[73]\tvalidation_0-logloss:0.00387\n",
      "23\n"
     ]
    }
   ],
   "source": [
    "\n",
    "XGBC_model = XGBClassifier(enable_categorical = True, n_estimators=1000, early_stopping_rounds=50)\n",
    "XGBC_model.fit(\n",
    "    X_train, Y_train,\n",
    "    eval_set=[(X_test, Y_test)],\n",
    "    verbose=True\n",
    ")\n",
    "\n",
    "best_n_estimators = XGBC_model.best_iteration\n",
    "print(best_n_estimators)"
   ]
  },
  {
   "cell_type": "code",
   "execution_count": 13,
   "id": "65b3f19a",
   "metadata": {
    "execution": {
     "iopub.execute_input": "2025-03-03T01:35:53.567532Z",
     "iopub.status.busy": "2025-03-03T01:35:53.567234Z",
     "iopub.status.idle": "2025-03-03T01:35:54.450232Z",
     "shell.execute_reply": "2025-03-03T01:35:54.449403Z"
    },
    "papermill": {
     "duration": 0.893693,
     "end_time": "2025-03-03T01:35:54.451733",
     "exception": false,
     "start_time": "2025-03-03T01:35:53.558040",
     "status": "completed"
    },
    "tags": []
   },
   "outputs": [
    {
     "data": {
      "text/html": [
       "<style>#sk-container-id-1 {color: black;background-color: white;}#sk-container-id-1 pre{padding: 0;}#sk-container-id-1 div.sk-toggleable {background-color: white;}#sk-container-id-1 label.sk-toggleable__label {cursor: pointer;display: block;width: 100%;margin-bottom: 0;padding: 0.3em;box-sizing: border-box;text-align: center;}#sk-container-id-1 label.sk-toggleable__label-arrow:before {content: \"▸\";float: left;margin-right: 0.25em;color: #696969;}#sk-container-id-1 label.sk-toggleable__label-arrow:hover:before {color: black;}#sk-container-id-1 div.sk-estimator:hover label.sk-toggleable__label-arrow:before {color: black;}#sk-container-id-1 div.sk-toggleable__content {max-height: 0;max-width: 0;overflow: hidden;text-align: left;background-color: #f0f8ff;}#sk-container-id-1 div.sk-toggleable__content pre {margin: 0.2em;color: black;border-radius: 0.25em;background-color: #f0f8ff;}#sk-container-id-1 input.sk-toggleable__control:checked~div.sk-toggleable__content {max-height: 200px;max-width: 100%;overflow: auto;}#sk-container-id-1 input.sk-toggleable__control:checked~label.sk-toggleable__label-arrow:before {content: \"▾\";}#sk-container-id-1 div.sk-estimator input.sk-toggleable__control:checked~label.sk-toggleable__label {background-color: #d4ebff;}#sk-container-id-1 div.sk-label input.sk-toggleable__control:checked~label.sk-toggleable__label {background-color: #d4ebff;}#sk-container-id-1 input.sk-hidden--visually {border: 0;clip: rect(1px 1px 1px 1px);clip: rect(1px, 1px, 1px, 1px);height: 1px;margin: -1px;overflow: hidden;padding: 0;position: absolute;width: 1px;}#sk-container-id-1 div.sk-estimator {font-family: monospace;background-color: #f0f8ff;border: 1px dotted black;border-radius: 0.25em;box-sizing: border-box;margin-bottom: 0.5em;}#sk-container-id-1 div.sk-estimator:hover {background-color: #d4ebff;}#sk-container-id-1 div.sk-parallel-item::after {content: \"\";width: 100%;border-bottom: 1px solid gray;flex-grow: 1;}#sk-container-id-1 div.sk-label:hover label.sk-toggleable__label {background-color: #d4ebff;}#sk-container-id-1 div.sk-serial::before {content: \"\";position: absolute;border-left: 1px solid gray;box-sizing: border-box;top: 0;bottom: 0;left: 50%;z-index: 0;}#sk-container-id-1 div.sk-serial {display: flex;flex-direction: column;align-items: center;background-color: white;padding-right: 0.2em;padding-left: 0.2em;position: relative;}#sk-container-id-1 div.sk-item {position: relative;z-index: 1;}#sk-container-id-1 div.sk-parallel {display: flex;align-items: stretch;justify-content: center;background-color: white;position: relative;}#sk-container-id-1 div.sk-item::before, #sk-container-id-1 div.sk-parallel-item::before {content: \"\";position: absolute;border-left: 1px solid gray;box-sizing: border-box;top: 0;bottom: 0;left: 50%;z-index: -1;}#sk-container-id-1 div.sk-parallel-item {display: flex;flex-direction: column;z-index: 1;position: relative;background-color: white;}#sk-container-id-1 div.sk-parallel-item:first-child::after {align-self: flex-end;width: 50%;}#sk-container-id-1 div.sk-parallel-item:last-child::after {align-self: flex-start;width: 50%;}#sk-container-id-1 div.sk-parallel-item:only-child::after {width: 0;}#sk-container-id-1 div.sk-dashed-wrapped {border: 1px dashed gray;margin: 0 0.4em 0.5em 0.4em;box-sizing: border-box;padding-bottom: 0.4em;background-color: white;}#sk-container-id-1 div.sk-label label {font-family: monospace;font-weight: bold;display: inline-block;line-height: 1.2em;}#sk-container-id-1 div.sk-label-container {text-align: center;}#sk-container-id-1 div.sk-container {/* jupyter's `normalize.less` sets `[hidden] { display: none; }` but bootstrap.min.css set `[hidden] { display: none !important; }` so we also need the `!important` here to be able to override the default hidden behavior on the sphinx rendered scikit-learn.org. See: https://github.com/scikit-learn/scikit-learn/issues/21755 */display: inline-block !important;position: relative;}#sk-container-id-1 div.sk-text-repr-fallback {display: none;}</style><div id=\"sk-container-id-1\" class=\"sk-top-container\"><div class=\"sk-text-repr-fallback\"><pre>XGBClassifier(base_score=None, booster=None, callbacks=None,\n",
       "              colsample_bylevel=None, colsample_bynode=None,\n",
       "              colsample_bytree=None, device=None, early_stopping_rounds=None,\n",
       "              enable_categorical=True, eval_metric=None, feature_types=None,\n",
       "              gamma=None, grow_policy=None, importance_type=None,\n",
       "              interaction_constraints=None, learning_rate=0.1, max_bin=None,\n",
       "              max_cat_threshold=None, max_cat_to_onehot=None,\n",
       "              max_delta_step=None, max_depth=None, max_leaves=None,\n",
       "              min_child_weight=None, missing=nan, monotone_constraints=None,\n",
       "              multi_strategy=None, n_estimators=70, n_jobs=None,\n",
       "              num_parallel_tree=None, random_state=None, ...)</pre><b>In a Jupyter environment, please rerun this cell to show the HTML representation or trust the notebook. <br />On GitHub, the HTML representation is unable to render, please try loading this page with nbviewer.org.</b></div><div class=\"sk-container\" hidden><div class=\"sk-item\"><div class=\"sk-estimator sk-toggleable\"><input class=\"sk-toggleable__control sk-hidden--visually\" id=\"sk-estimator-id-1\" type=\"checkbox\" checked><label for=\"sk-estimator-id-1\" class=\"sk-toggleable__label sk-toggleable__label-arrow\">XGBClassifier</label><div class=\"sk-toggleable__content\"><pre>XGBClassifier(base_score=None, booster=None, callbacks=None,\n",
       "              colsample_bylevel=None, colsample_bynode=None,\n",
       "              colsample_bytree=None, device=None, early_stopping_rounds=None,\n",
       "              enable_categorical=True, eval_metric=None, feature_types=None,\n",
       "              gamma=None, grow_policy=None, importance_type=None,\n",
       "              interaction_constraints=None, learning_rate=0.1, max_bin=None,\n",
       "              max_cat_threshold=None, max_cat_to_onehot=None,\n",
       "              max_delta_step=None, max_depth=None, max_leaves=None,\n",
       "              min_child_weight=None, missing=nan, monotone_constraints=None,\n",
       "              multi_strategy=None, n_estimators=70, n_jobs=None,\n",
       "              num_parallel_tree=None, random_state=None, ...)</pre></div></div></div></div></div>"
      ],
      "text/plain": [
       "XGBClassifier(base_score=None, booster=None, callbacks=None,\n",
       "              colsample_bylevel=None, colsample_bynode=None,\n",
       "              colsample_bytree=None, device=None, early_stopping_rounds=None,\n",
       "              enable_categorical=True, eval_metric=None, feature_types=None,\n",
       "              gamma=None, grow_policy=None, importance_type=None,\n",
       "              interaction_constraints=None, learning_rate=0.1, max_bin=None,\n",
       "              max_cat_threshold=None, max_cat_to_onehot=None,\n",
       "              max_delta_step=None, max_depth=None, max_leaves=None,\n",
       "              min_child_weight=None, missing=nan, monotone_constraints=None,\n",
       "              multi_strategy=None, n_estimators=70, n_jobs=None,\n",
       "              num_parallel_tree=None, random_state=None, ...)"
      ]
     },
     "execution_count": 13,
     "metadata": {},
     "output_type": "execute_result"
    }
   ],
   "source": [
    "#X_train_array = X_train.to_numpy()\n",
    "#X_test_array = X_test.to_numpy()\n",
    "\n",
    "XGBC_model = XGBClassifier(enable_categorical = True, n_estimators=70, learning_rate = 0.1)\n",
    "XGBC_model.fit(X, y)"
   ]
  },
  {
   "cell_type": "markdown",
   "id": "8fd2c243",
   "metadata": {
    "execution": {
     "iopub.execute_input": "2025-03-03T01:32:08.936752Z",
     "iopub.status.busy": "2025-03-03T01:32:08.936266Z",
     "iopub.status.idle": "2025-03-03T01:32:08.945030Z",
     "shell.execute_reply": "2025-03-03T01:32:08.943718Z",
     "shell.execute_reply.started": "2025-03-03T01:32:08.936710Z"
    },
    "papermill": {
     "duration": 0.008036,
     "end_time": "2025-03-03T01:35:54.468844",
     "exception": false,
     "start_time": "2025-03-03T01:35:54.460808",
     "status": "completed"
    },
    "tags": []
   },
   "source": [
    "from sklearn.feature_selection import SelectFromModel\n",
    "selection = SelectFromModel(XGBC_model, threshold=0.05, prefit=True)\n",
    "selected_dataset = selection.transform(X_test_array)"
   ]
  },
  {
   "cell_type": "code",
   "execution_count": 14,
   "id": "f1471bb5",
   "metadata": {
    "execution": {
     "iopub.execute_input": "2025-03-03T01:35:54.486521Z",
     "iopub.status.busy": "2025-03-03T01:35:54.486233Z",
     "iopub.status.idle": "2025-03-03T01:35:54.518377Z",
     "shell.execute_reply": "2025-03-03T01:35:54.517118Z"
    },
    "papermill": {
     "duration": 0.042871,
     "end_time": "2025-03-03T01:35:54.520030",
     "exception": false,
     "start_time": "2025-03-03T01:35:54.477159",
     "status": "completed"
    },
    "tags": []
   },
   "outputs": [
    {
     "data": {
      "text/plain": [
       "0.00014711757128326616"
      ]
     },
     "execution_count": 14,
     "metadata": {},
     "output_type": "execute_result"
    }
   ],
   "source": [
    "pred_test = XGBC_model.predict_proba(X_test)[:, 1]\n",
    "mean_squared_error(Y_test, pred_test)"
   ]
  },
  {
   "cell_type": "code",
   "execution_count": 15,
   "id": "859807ad",
   "metadata": {
    "execution": {
     "iopub.execute_input": "2025-03-03T01:35:54.538991Z",
     "iopub.status.busy": "2025-03-03T01:35:54.538631Z",
     "iopub.status.idle": "2025-03-03T01:35:54.541771Z",
     "shell.execute_reply": "2025-03-03T01:35:54.541030Z"
    },
    "papermill": {
     "duration": 0.013949,
     "end_time": "2025-03-03T01:35:54.542946",
     "exception": false,
     "start_time": "2025-03-03T01:35:54.528997",
     "status": "completed"
    },
    "tags": []
   },
   "outputs": [],
   "source": [
    "#Y_train = Y_train.ravel()\n",
    "#Y_test = Y_test.ravel()"
   ]
  },
  {
   "cell_type": "code",
   "execution_count": 16,
   "id": "d37a2c42",
   "metadata": {
    "execution": {
     "iopub.execute_input": "2025-03-03T01:35:54.561611Z",
     "iopub.status.busy": "2025-03-03T01:35:54.561309Z",
     "iopub.status.idle": "2025-03-03T01:35:54.566573Z",
     "shell.execute_reply": "2025-03-03T01:35:54.565792Z"
    },
    "papermill": {
     "duration": 0.015772,
     "end_time": "2025-03-03T01:35:54.567908",
     "exception": false,
     "start_time": "2025-03-03T01:35:54.552136",
     "status": "completed"
    },
    "tags": []
   },
   "outputs": [
    {
     "data": {
      "text/plain": [
       "((136711, 1), (34178, 1), (34178, 30))"
      ]
     },
     "execution_count": 16,
     "metadata": {},
     "output_type": "execute_result"
    }
   ],
   "source": [
    "Y_train.shape, Y_test.shape, X_test.shape"
   ]
  },
  {
   "cell_type": "code",
   "execution_count": 17,
   "id": "57d8c640",
   "metadata": {
    "execution": {
     "iopub.execute_input": "2025-03-03T01:35:54.586780Z",
     "iopub.status.busy": "2025-03-03T01:35:54.586494Z",
     "iopub.status.idle": "2025-03-03T01:35:54.589350Z",
     "shell.execute_reply": "2025-03-03T01:35:54.588641Z"
    },
    "papermill": {
     "duration": 0.013213,
     "end_time": "2025-03-03T01:35:54.590455",
     "exception": false,
     "start_time": "2025-03-03T01:35:54.577242",
     "status": "completed"
    },
    "tags": []
   },
   "outputs": [],
   "source": [
    "#RF_model = RandomForestRegressor(n_estimators=25)\n",
    "#RF_model.fit(X, y)\n",
    "#pred_test = RF_model.predict(X_test)\n",
    "#mean_squared_error(Y_test, pred_test)"
   ]
  },
  {
   "cell_type": "code",
   "execution_count": 18,
   "id": "66042964",
   "metadata": {
    "execution": {
     "iopub.execute_input": "2025-03-03T01:35:54.608426Z",
     "iopub.status.busy": "2025-03-03T01:35:54.608166Z",
     "iopub.status.idle": "2025-03-03T01:35:54.676881Z",
     "shell.execute_reply": "2025-03-03T01:35:54.675930Z"
    },
    "papermill": {
     "duration": 0.079182,
     "end_time": "2025-03-03T01:35:54.678371",
     "exception": false,
     "start_time": "2025-03-03T01:35:54.599189",
     "status": "completed"
    },
    "tags": []
   },
   "outputs": [
    {
     "data": {
      "text/plain": [
       "113918"
      ]
     },
     "execution_count": 18,
     "metadata": {},
     "output_type": "execute_result"
    }
   ],
   "source": [
    "pred = XGBC_model.predict_proba(test_df)[:, 1]\n",
    "pred.size"
   ]
  },
  {
   "cell_type": "code",
   "execution_count": 19,
   "id": "cedfa298",
   "metadata": {
    "execution": {
     "iopub.execute_input": "2025-03-03T01:35:54.696962Z",
     "iopub.status.busy": "2025-03-03T01:35:54.696637Z",
     "iopub.status.idle": "2025-03-03T01:35:54.708649Z",
     "shell.execute_reply": "2025-03-03T01:35:54.707959Z"
    },
    "papermill": {
     "duration": 0.022435,
     "end_time": "2025-03-03T01:35:54.709837",
     "exception": false,
     "start_time": "2025-03-03T01:35:54.687402",
     "status": "completed"
    },
    "tags": []
   },
   "outputs": [
    {
     "data": {
      "text/plain": [
       "0.9978470335708995"
      ]
     },
     "execution_count": 19,
     "metadata": {},
     "output_type": "execute_result"
    }
   ],
   "source": [
    "roc_auc_score(Y_test, pred_test, max_fpr = 0.01) # don't forget the 0.01, this will give you the head of the curve\n"
   ]
  },
  {
   "cell_type": "code",
   "execution_count": 20,
   "id": "81bc3363",
   "metadata": {
    "execution": {
     "iopub.execute_input": "2025-03-03T01:35:54.728261Z",
     "iopub.status.busy": "2025-03-03T01:35:54.727937Z",
     "iopub.status.idle": "2025-03-03T01:35:54.736935Z",
     "shell.execute_reply": "2025-03-03T01:35:54.736204Z"
    },
    "papermill": {
     "duration": 0.019507,
     "end_time": "2025-03-03T01:35:54.738079",
     "exception": false,
     "start_time": "2025-03-03T01:35:54.718572",
     "status": "completed"
    },
    "tags": []
   },
   "outputs": [
    {
     "data": {
      "text/html": [
       "<div>\n",
       "<style scoped>\n",
       "    .dataframe tbody tr th:only-of-type {\n",
       "        vertical-align: middle;\n",
       "    }\n",
       "\n",
       "    .dataframe tbody tr th {\n",
       "        vertical-align: top;\n",
       "    }\n",
       "\n",
       "    .dataframe thead th {\n",
       "        text-align: right;\n",
       "    }\n",
       "</style>\n",
       "<table border=\"1\" class=\"dataframe\">\n",
       "  <thead>\n",
       "    <tr style=\"text-align: right;\">\n",
       "      <th></th>\n",
       "      <th>id</th>\n",
       "      <th>Label</th>\n",
       "    </tr>\n",
       "  </thead>\n",
       "  <tbody>\n",
       "    <tr>\n",
       "      <th>0</th>\n",
       "      <td>0</td>\n",
       "      <td>0.000171</td>\n",
       "    </tr>\n",
       "    <tr>\n",
       "      <th>1</th>\n",
       "      <td>1</td>\n",
       "      <td>0.000167</td>\n",
       "    </tr>\n",
       "    <tr>\n",
       "      <th>2</th>\n",
       "      <td>2</td>\n",
       "      <td>0.000169</td>\n",
       "    </tr>\n",
       "    <tr>\n",
       "      <th>3</th>\n",
       "      <td>3</td>\n",
       "      <td>0.000168</td>\n",
       "    </tr>\n",
       "    <tr>\n",
       "      <th>4</th>\n",
       "      <td>4</td>\n",
       "      <td>0.000163</td>\n",
       "    </tr>\n",
       "    <tr>\n",
       "      <th>...</th>\n",
       "      <td>...</td>\n",
       "      <td>...</td>\n",
       "    </tr>\n",
       "    <tr>\n",
       "      <th>113913</th>\n",
       "      <td>113913</td>\n",
       "      <td>0.000130</td>\n",
       "    </tr>\n",
       "    <tr>\n",
       "      <th>113914</th>\n",
       "      <td>113914</td>\n",
       "      <td>0.000174</td>\n",
       "    </tr>\n",
       "    <tr>\n",
       "      <th>113915</th>\n",
       "      <td>113915</td>\n",
       "      <td>0.000353</td>\n",
       "    </tr>\n",
       "    <tr>\n",
       "      <th>113916</th>\n",
       "      <td>113916</td>\n",
       "      <td>0.000373</td>\n",
       "    </tr>\n",
       "    <tr>\n",
       "      <th>113917</th>\n",
       "      <td>113917</td>\n",
       "      <td>0.000385</td>\n",
       "    </tr>\n",
       "  </tbody>\n",
       "</table>\n",
       "<p>113918 rows × 2 columns</p>\n",
       "</div>"
      ],
      "text/plain": [
       "            id     Label\n",
       "0            0  0.000171\n",
       "1            1  0.000167\n",
       "2            2  0.000169\n",
       "3            3  0.000168\n",
       "4            4  0.000163\n",
       "...        ...       ...\n",
       "113913  113913  0.000130\n",
       "113914  113914  0.000174\n",
       "113915  113915  0.000353\n",
       "113916  113916  0.000373\n",
       "113917  113917  0.000385\n",
       "\n",
       "[113918 rows x 2 columns]"
      ]
     },
     "execution_count": 20,
     "metadata": {},
     "output_type": "execute_result"
    }
   ],
   "source": [
    "submission = pd.DataFrame({'id':test_df.index, 'Label':pred})\n",
    "submission"
   ]
  },
  {
   "cell_type": "code",
   "execution_count": 21,
   "id": "1c29e4d9",
   "metadata": {
    "execution": {
     "iopub.execute_input": "2025-03-03T01:35:54.756379Z",
     "iopub.status.busy": "2025-03-03T01:35:54.756078Z",
     "iopub.status.idle": "2025-03-03T01:35:54.872239Z",
     "shell.execute_reply": "2025-03-03T01:35:54.871124Z"
    },
    "papermill": {
     "duration": 0.12702,
     "end_time": "2025-03-03T01:35:54.873776",
     "exception": false,
     "start_time": "2025-03-03T01:35:54.746756",
     "status": "completed"
    },
    "tags": []
   },
   "outputs": [],
   "source": [
    "submission.set_index('id').to_csv(\"submission.csv\")"
   ]
  },
  {
   "cell_type": "code",
   "execution_count": 22,
   "id": "51fe5c14",
   "metadata": {
    "execution": {
     "iopub.execute_input": "2025-03-03T01:35:54.893419Z",
     "iopub.status.busy": "2025-03-03T01:35:54.893125Z",
     "iopub.status.idle": "2025-03-03T01:35:55.025639Z",
     "shell.execute_reply": "2025-03-03T01:35:55.024586Z"
    },
    "papermill": {
     "duration": 0.144251,
     "end_time": "2025-03-03T01:35:55.027590",
     "exception": false,
     "start_time": "2025-03-03T01:35:54.883339",
     "status": "completed"
    },
    "tags": []
   },
   "outputs": [
    {
     "name": "stdout",
     "output_type": "stream",
     "text": [
      "id,Label\r\n",
      "0,0.0001711991\r\n",
      "1,0.0001667696\r\n",
      "2,0.00016932919\r\n",
      "3,0.00016761823\r\n"
     ]
    }
   ],
   "source": [
    "!head -5 submission.csv"
   ]
  }
 ],
 "metadata": {
  "kaggle": {
   "accelerator": "none",
   "dataSources": [
    {
     "databundleVersionId": 11038147,
     "sourceId": 92664,
     "sourceType": "competition"
    }
   ],
   "dockerImageVersionId": 30918,
   "isGpuEnabled": false,
   "isInternetEnabled": false,
   "language": "python",
   "sourceType": "notebook"
  },
  "kernelspec": {
   "display_name": "Python 3",
   "language": "python",
   "name": "python3"
  },
  "language_info": {
   "codemirror_mode": {
    "name": "ipython",
    "version": 3
   },
   "file_extension": ".py",
   "mimetype": "text/x-python",
   "name": "python",
   "nbconvert_exporter": "python",
   "pygments_lexer": "ipython3",
   "version": "3.10.12"
  },
  "papermill": {
   "default_parameters": {},
   "duration": 84.103429,
   "end_time": "2025-03-03T01:35:55.757953",
   "environment_variables": {},
   "exception": null,
   "input_path": "__notebook__.ipynb",
   "output_path": "__notebook__.ipynb",
   "parameters": {},
   "start_time": "2025-03-03T01:34:31.654524",
   "version": "2.6.0"
  }
 },
 "nbformat": 4,
 "nbformat_minor": 5
}
