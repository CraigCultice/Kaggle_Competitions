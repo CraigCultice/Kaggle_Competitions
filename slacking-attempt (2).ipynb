{
 "cells": [
  {
   "cell_type": "code",
   "execution_count": 1,
   "id": "a876dd0e",
   "metadata": {
    "_cell_guid": "b1076dfc-b9ad-4769-8c92-a6c4dae69d19",
    "_uuid": "8f2839f25d086af736a60e9eeb907d3b93b6e0e5",
    "execution": {
     "iopub.execute_input": "2025-03-07T09:10:20.281088Z",
     "iopub.status.busy": "2025-03-07T09:10:20.280760Z",
     "iopub.status.idle": "2025-03-07T09:10:21.136847Z",
     "shell.execute_reply": "2025-03-07T09:10:21.135539Z"
    },
    "papermill": {
     "duration": 0.86346,
     "end_time": "2025-03-07T09:10:21.138364",
     "exception": false,
     "start_time": "2025-03-07T09:10:20.274904",
     "status": "completed"
    },
    "tags": []
   },
   "outputs": [
    {
     "name": "stdout",
     "output_type": "stream",
     "text": [
      "/kaggle/input/winter-2025-machine-learning-competition-1-p/sample_submission.csv\n",
      "/kaggle/input/winter-2025-machine-learning-competition-1-p/train.csv\n",
      "/kaggle/input/winter-2025-machine-learning-competition-1-p/test.csv\n"
     ]
    }
   ],
   "source": [
    "# This Python 3 environment comes with many helpful analytics libraries installed\n",
    "# It is defined by the kaggle/python Docker image: https://github.com/kaggle/docker-python\n",
    "# For example, here's several helpful packages to load\n",
    "\n",
    "import numpy as np # linear algebra\n",
    "import pandas as pd # data processing, CSV file I/O (e.g. pd.read_csv)\n",
    "\n",
    "# Input data files are available in the read-only \"../input/\" directory\n",
    "# For example, running this (by clicking run or pressing Shift+Enter) will list all files under the input directory\n",
    "\n",
    "import os\n",
    "for dirname, _, filenames in os.walk('/kaggle/input'):\n",
    "    for filename in filenames:\n",
    "        print(os.path.join(dirname, filename))\n",
    "\n",
    "# You can write up to 20GB to the current directory (/kaggle/working/) that gets preserved as output when you create a version using \"Save & Run All\" \n",
    "# You can also write temporary files to /kaggle/temp/, but they won't be saved outside of the current session"
   ]
  },
  {
   "cell_type": "code",
   "execution_count": 2,
   "id": "a4a83be3",
   "metadata": {
    "execution": {
     "iopub.execute_input": "2025-03-07T09:10:21.149040Z",
     "iopub.status.busy": "2025-03-07T09:10:21.148591Z",
     "iopub.status.idle": "2025-03-07T09:10:25.818580Z",
     "shell.execute_reply": "2025-03-07T09:10:25.817718Z"
    },
    "papermill": {
     "duration": 4.677076,
     "end_time": "2025-03-07T09:10:25.820439",
     "exception": false,
     "start_time": "2025-03-07T09:10:21.143363",
     "status": "completed"
    },
    "tags": []
   },
   "outputs": [],
   "source": [
    "train = pd.read_csv('/kaggle/input/winter-2025-machine-learning-competition-1-p/train.csv')\n",
    "test = pd.read_csv('/kaggle/input/winter-2025-machine-learning-competition-1-p/test.csv',index_col=[0])"
   ]
  },
  {
   "cell_type": "code",
   "execution_count": 3,
   "id": "70ab8219",
   "metadata": {
    "execution": {
     "iopub.execute_input": "2025-03-07T09:10:25.830367Z",
     "iopub.status.busy": "2025-03-07T09:10:25.830023Z",
     "iopub.status.idle": "2025-03-07T09:10:27.947563Z",
     "shell.execute_reply": "2025-03-07T09:10:27.946458Z"
    },
    "papermill": {
     "duration": 2.124632,
     "end_time": "2025-03-07T09:10:27.949499",
     "exception": false,
     "start_time": "2025-03-07T09:10:25.824867",
     "status": "completed"
    },
    "tags": []
   },
   "outputs": [],
   "source": [
    "# Data Processing\n",
    "import pandas as pd\n",
    "import numpy as np\n",
    "\n",
    "# Modelling\n",
    "from sklearn.ensemble import StackingClassifier\n",
    "from sklearn.ensemble import RandomForestClassifier\n",
    "from xgboost import XGBClassifier\n",
    "from sklearn.linear_model import LogisticRegression\n",
    "from sklearn.preprocessing import StandardScaler\n",
    "from sklearn.preprocessing import PolynomialFeatures\n",
    "from sklearn.pipeline import Pipeline\n",
    "from sklearn.metrics import roc_auc_score\n",
    "from sklearn.model_selection import RandomizedSearchCV, train_test_split\n",
    "\n",
    "import matplotlib.pyplot as plt"
   ]
  },
  {
   "cell_type": "code",
   "execution_count": 4,
   "id": "7d9347c0",
   "metadata": {
    "execution": {
     "iopub.execute_input": "2025-03-07T09:10:27.959498Z",
     "iopub.status.busy": "2025-03-07T09:10:27.959052Z",
     "iopub.status.idle": "2025-03-07T09:10:28.019171Z",
     "shell.execute_reply": "2025-03-07T09:10:28.018283Z"
    },
    "papermill": {
     "duration": 0.066874,
     "end_time": "2025-03-07T09:10:28.020952",
     "exception": false,
     "start_time": "2025-03-07T09:10:27.954078",
     "status": "completed"
    },
    "tags": []
   },
   "outputs": [],
   "source": [
    "train_df = train.copy()\n",
    "y = train_df.pop(\"Label\")\n",
    "X = train_df.drop(['X3', 'X1'],axis=1)\n",
    "test = test.drop(['X3', 'X1'],axis=1)"
   ]
  },
  {
   "cell_type": "code",
   "execution_count": 5,
   "id": "b56e6b4d",
   "metadata": {
    "execution": {
     "iopub.execute_input": "2025-03-07T09:10:28.030802Z",
     "iopub.status.busy": "2025-03-07T09:10:28.030415Z",
     "iopub.status.idle": "2025-03-07T09:10:28.085270Z",
     "shell.execute_reply": "2025-03-07T09:10:28.084374Z"
    },
    "papermill": {
     "duration": 0.061878,
     "end_time": "2025-03-07T09:10:28.087288",
     "exception": false,
     "start_time": "2025-03-07T09:10:28.025410",
     "status": "completed"
    },
    "tags": []
   },
   "outputs": [],
   "source": [
    "# Split the data into training and test sets\n",
    "X_train, X_val, y_train, y_val = train_test_split(X, y, test_size=0.2,random_state=42)"
   ]
  },
  {
   "cell_type": "code",
   "execution_count": 6,
   "id": "2101a544",
   "metadata": {
    "execution": {
     "iopub.execute_input": "2025-03-07T09:10:28.097367Z",
     "iopub.status.busy": "2025-03-07T09:10:28.097042Z",
     "iopub.status.idle": "2025-03-07T09:11:05.563919Z",
     "shell.execute_reply": "2025-03-07T09:11:05.562944Z"
    },
    "papermill": {
     "duration": 37.478052,
     "end_time": "2025-03-07T09:11:05.569885",
     "exception": false,
     "start_time": "2025-03-07T09:10:28.091833",
     "status": "completed"
    },
    "tags": []
   },
   "outputs": [
    {
     "data": {
      "text/html": [
       "<style>#sk-container-id-1 {color: black;background-color: white;}#sk-container-id-1 pre{padding: 0;}#sk-container-id-1 div.sk-toggleable {background-color: white;}#sk-container-id-1 label.sk-toggleable__label {cursor: pointer;display: block;width: 100%;margin-bottom: 0;padding: 0.3em;box-sizing: border-box;text-align: center;}#sk-container-id-1 label.sk-toggleable__label-arrow:before {content: \"▸\";float: left;margin-right: 0.25em;color: #696969;}#sk-container-id-1 label.sk-toggleable__label-arrow:hover:before {color: black;}#sk-container-id-1 div.sk-estimator:hover label.sk-toggleable__label-arrow:before {color: black;}#sk-container-id-1 div.sk-toggleable__content {max-height: 0;max-width: 0;overflow: hidden;text-align: left;background-color: #f0f8ff;}#sk-container-id-1 div.sk-toggleable__content pre {margin: 0.2em;color: black;border-radius: 0.25em;background-color: #f0f8ff;}#sk-container-id-1 input.sk-toggleable__control:checked~div.sk-toggleable__content {max-height: 200px;max-width: 100%;overflow: auto;}#sk-container-id-1 input.sk-toggleable__control:checked~label.sk-toggleable__label-arrow:before {content: \"▾\";}#sk-container-id-1 div.sk-estimator input.sk-toggleable__control:checked~label.sk-toggleable__label {background-color: #d4ebff;}#sk-container-id-1 div.sk-label input.sk-toggleable__control:checked~label.sk-toggleable__label {background-color: #d4ebff;}#sk-container-id-1 input.sk-hidden--visually {border: 0;clip: rect(1px 1px 1px 1px);clip: rect(1px, 1px, 1px, 1px);height: 1px;margin: -1px;overflow: hidden;padding: 0;position: absolute;width: 1px;}#sk-container-id-1 div.sk-estimator {font-family: monospace;background-color: #f0f8ff;border: 1px dotted black;border-radius: 0.25em;box-sizing: border-box;margin-bottom: 0.5em;}#sk-container-id-1 div.sk-estimator:hover {background-color: #d4ebff;}#sk-container-id-1 div.sk-parallel-item::after {content: \"\";width: 100%;border-bottom: 1px solid gray;flex-grow: 1;}#sk-container-id-1 div.sk-label:hover label.sk-toggleable__label {background-color: #d4ebff;}#sk-container-id-1 div.sk-serial::before {content: \"\";position: absolute;border-left: 1px solid gray;box-sizing: border-box;top: 0;bottom: 0;left: 50%;z-index: 0;}#sk-container-id-1 div.sk-serial {display: flex;flex-direction: column;align-items: center;background-color: white;padding-right: 0.2em;padding-left: 0.2em;position: relative;}#sk-container-id-1 div.sk-item {position: relative;z-index: 1;}#sk-container-id-1 div.sk-parallel {display: flex;align-items: stretch;justify-content: center;background-color: white;position: relative;}#sk-container-id-1 div.sk-item::before, #sk-container-id-1 div.sk-parallel-item::before {content: \"\";position: absolute;border-left: 1px solid gray;box-sizing: border-box;top: 0;bottom: 0;left: 50%;z-index: -1;}#sk-container-id-1 div.sk-parallel-item {display: flex;flex-direction: column;z-index: 1;position: relative;background-color: white;}#sk-container-id-1 div.sk-parallel-item:first-child::after {align-self: flex-end;width: 50%;}#sk-container-id-1 div.sk-parallel-item:last-child::after {align-self: flex-start;width: 50%;}#sk-container-id-1 div.sk-parallel-item:only-child::after {width: 0;}#sk-container-id-1 div.sk-dashed-wrapped {border: 1px dashed gray;margin: 0 0.4em 0.5em 0.4em;box-sizing: border-box;padding-bottom: 0.4em;background-color: white;}#sk-container-id-1 div.sk-label label {font-family: monospace;font-weight: bold;display: inline-block;line-height: 1.2em;}#sk-container-id-1 div.sk-label-container {text-align: center;}#sk-container-id-1 div.sk-container {/* jupyter's `normalize.less` sets `[hidden] { display: none; }` but bootstrap.min.css set `[hidden] { display: none !important; }` so we also need the `!important` here to be able to override the default hidden behavior on the sphinx rendered scikit-learn.org. See: https://github.com/scikit-learn/scikit-learn/issues/21755 */display: inline-block !important;position: relative;}#sk-container-id-1 div.sk-text-repr-fallback {display: none;}</style><div id=\"sk-container-id-1\" class=\"sk-top-container\"><div class=\"sk-text-repr-fallback\"><pre>RandomForestClassifier(max_depth=6, max_features=&#x27;log2&#x27;, min_samples_leaf=3,\n",
       "                       min_samples_split=4, n_estimators=240, n_jobs=-1,\n",
       "                       random_state=0)</pre><b>In a Jupyter environment, please rerun this cell to show the HTML representation or trust the notebook. <br />On GitHub, the HTML representation is unable to render, please try loading this page with nbviewer.org.</b></div><div class=\"sk-container\" hidden><div class=\"sk-item\"><div class=\"sk-estimator sk-toggleable\"><input class=\"sk-toggleable__control sk-hidden--visually\" id=\"sk-estimator-id-1\" type=\"checkbox\" checked><label for=\"sk-estimator-id-1\" class=\"sk-toggleable__label sk-toggleable__label-arrow\">RandomForestClassifier</label><div class=\"sk-toggleable__content\"><pre>RandomForestClassifier(max_depth=6, max_features=&#x27;log2&#x27;, min_samples_leaf=3,\n",
       "                       min_samples_split=4, n_estimators=240, n_jobs=-1,\n",
       "                       random_state=0)</pre></div></div></div></div></div>"
      ],
      "text/plain": [
       "RandomForestClassifier(max_depth=6, max_features='log2', min_samples_leaf=3,\n",
       "                       min_samples_split=4, n_estimators=240, n_jobs=-1,\n",
       "                       random_state=0)"
      ]
     },
     "execution_count": 6,
     "metadata": {},
     "output_type": "execute_result"
    }
   ],
   "source": [
    "### Random Forest\n",
    "\n",
    "rf = RandomForestClassifier(n_estimators=240, max_depth=6, min_samples_split=4, min_samples_leaf = 3, max_features=\"log2\", n_jobs=-1,random_state=0) # remember the random_state!!!\n",
    "rf.fit(X_train, y_train)"
   ]
  },
  {
   "cell_type": "code",
   "execution_count": 7,
   "id": "cfc718ed",
   "metadata": {
    "execution": {
     "iopub.execute_input": "2025-03-07T09:11:05.579991Z",
     "iopub.status.busy": "2025-03-07T09:11:05.579638Z",
     "iopub.status.idle": "2025-03-07T09:11:06.787087Z",
     "shell.execute_reply": "2025-03-07T09:11:06.786123Z"
    },
    "papermill": {
     "duration": 1.214325,
     "end_time": "2025-03-07T09:11:06.788598",
     "exception": false,
     "start_time": "2025-03-07T09:11:05.574273",
     "status": "completed"
    },
    "tags": []
   },
   "outputs": [
    {
     "data": {
      "text/plain": [
       "(0.9360362850126562, 0.9367507668754085)"
      ]
     },
     "execution_count": 7,
     "metadata": {},
     "output_type": "execute_result"
    }
   ],
   "source": [
    "train_probs1 = rf.predict_proba(X_train)[:, 1]\n",
    "val_probs1 = rf.predict_proba(X_val)[:,1]\n",
    "roc_auc_score(y_val,val_probs1,max_fpr=.01), roc_auc_score(y_train, train_probs1, max_fpr=.01)"
   ]
  },
  {
   "cell_type": "code",
   "execution_count": 8,
   "id": "9bc9437f",
   "metadata": {
    "execution": {
     "iopub.execute_input": "2025-03-07T09:11:06.799010Z",
     "iopub.status.busy": "2025-03-07T09:11:06.798685Z",
     "iopub.status.idle": "2025-03-07T09:11:07.370818Z",
     "shell.execute_reply": "2025-03-07T09:11:07.369106Z"
    },
    "papermill": {
     "duration": 0.579569,
     "end_time": "2025-03-07T09:11:07.372802",
     "exception": false,
     "start_time": "2025-03-07T09:11:06.793233",
     "status": "completed"
    },
    "tags": []
   },
   "outputs": [
    {
     "data": {
      "text/html": [
       "<style>#sk-container-id-2 {color: black;background-color: white;}#sk-container-id-2 pre{padding: 0;}#sk-container-id-2 div.sk-toggleable {background-color: white;}#sk-container-id-2 label.sk-toggleable__label {cursor: pointer;display: block;width: 100%;margin-bottom: 0;padding: 0.3em;box-sizing: border-box;text-align: center;}#sk-container-id-2 label.sk-toggleable__label-arrow:before {content: \"▸\";float: left;margin-right: 0.25em;color: #696969;}#sk-container-id-2 label.sk-toggleable__label-arrow:hover:before {color: black;}#sk-container-id-2 div.sk-estimator:hover label.sk-toggleable__label-arrow:before {color: black;}#sk-container-id-2 div.sk-toggleable__content {max-height: 0;max-width: 0;overflow: hidden;text-align: left;background-color: #f0f8ff;}#sk-container-id-2 div.sk-toggleable__content pre {margin: 0.2em;color: black;border-radius: 0.25em;background-color: #f0f8ff;}#sk-container-id-2 input.sk-toggleable__control:checked~div.sk-toggleable__content {max-height: 200px;max-width: 100%;overflow: auto;}#sk-container-id-2 input.sk-toggleable__control:checked~label.sk-toggleable__label-arrow:before {content: \"▾\";}#sk-container-id-2 div.sk-estimator input.sk-toggleable__control:checked~label.sk-toggleable__label {background-color: #d4ebff;}#sk-container-id-2 div.sk-label input.sk-toggleable__control:checked~label.sk-toggleable__label {background-color: #d4ebff;}#sk-container-id-2 input.sk-hidden--visually {border: 0;clip: rect(1px 1px 1px 1px);clip: rect(1px, 1px, 1px, 1px);height: 1px;margin: -1px;overflow: hidden;padding: 0;position: absolute;width: 1px;}#sk-container-id-2 div.sk-estimator {font-family: monospace;background-color: #f0f8ff;border: 1px dotted black;border-radius: 0.25em;box-sizing: border-box;margin-bottom: 0.5em;}#sk-container-id-2 div.sk-estimator:hover {background-color: #d4ebff;}#sk-container-id-2 div.sk-parallel-item::after {content: \"\";width: 100%;border-bottom: 1px solid gray;flex-grow: 1;}#sk-container-id-2 div.sk-label:hover label.sk-toggleable__label {background-color: #d4ebff;}#sk-container-id-2 div.sk-serial::before {content: \"\";position: absolute;border-left: 1px solid gray;box-sizing: border-box;top: 0;bottom: 0;left: 50%;z-index: 0;}#sk-container-id-2 div.sk-serial {display: flex;flex-direction: column;align-items: center;background-color: white;padding-right: 0.2em;padding-left: 0.2em;position: relative;}#sk-container-id-2 div.sk-item {position: relative;z-index: 1;}#sk-container-id-2 div.sk-parallel {display: flex;align-items: stretch;justify-content: center;background-color: white;position: relative;}#sk-container-id-2 div.sk-item::before, #sk-container-id-2 div.sk-parallel-item::before {content: \"\";position: absolute;border-left: 1px solid gray;box-sizing: border-box;top: 0;bottom: 0;left: 50%;z-index: -1;}#sk-container-id-2 div.sk-parallel-item {display: flex;flex-direction: column;z-index: 1;position: relative;background-color: white;}#sk-container-id-2 div.sk-parallel-item:first-child::after {align-self: flex-end;width: 50%;}#sk-container-id-2 div.sk-parallel-item:last-child::after {align-self: flex-start;width: 50%;}#sk-container-id-2 div.sk-parallel-item:only-child::after {width: 0;}#sk-container-id-2 div.sk-dashed-wrapped {border: 1px dashed gray;margin: 0 0.4em 0.5em 0.4em;box-sizing: border-box;padding-bottom: 0.4em;background-color: white;}#sk-container-id-2 div.sk-label label {font-family: monospace;font-weight: bold;display: inline-block;line-height: 1.2em;}#sk-container-id-2 div.sk-label-container {text-align: center;}#sk-container-id-2 div.sk-container {/* jupyter's `normalize.less` sets `[hidden] { display: none; }` but bootstrap.min.css set `[hidden] { display: none !important; }` so we also need the `!important` here to be able to override the default hidden behavior on the sphinx rendered scikit-learn.org. See: https://github.com/scikit-learn/scikit-learn/issues/21755 */display: inline-block !important;position: relative;}#sk-container-id-2 div.sk-text-repr-fallback {display: none;}</style><div id=\"sk-container-id-2\" class=\"sk-top-container\"><div class=\"sk-text-repr-fallback\"><pre>XGBClassifier(base_score=None, booster=None, callbacks=None,\n",
       "              colsample_bylevel=None, colsample_bynode=None,\n",
       "              colsample_bytree=None, device=None, early_stopping_rounds=None,\n",
       "              enable_categorical=True, eval_metric=None, feature_types=None,\n",
       "              gamma=0.1, grow_policy=None, importance_type=None,\n",
       "              interaction_constraints=None, learning_rate=0.11, max_bin=None,\n",
       "              max_cat_threshold=None, max_cat_to_onehot=None,\n",
       "              max_delta_step=None, max_depth=None, max_leaves=None,\n",
       "              min_child_weight=None, missing=nan, monotone_constraints=None,\n",
       "              multi_strategy=None, n_estimators=20, n_jobs=None,\n",
       "              num_parallel_tree=None, random_state=None, ...)</pre><b>In a Jupyter environment, please rerun this cell to show the HTML representation or trust the notebook. <br />On GitHub, the HTML representation is unable to render, please try loading this page with nbviewer.org.</b></div><div class=\"sk-container\" hidden><div class=\"sk-item\"><div class=\"sk-estimator sk-toggleable\"><input class=\"sk-toggleable__control sk-hidden--visually\" id=\"sk-estimator-id-2\" type=\"checkbox\" checked><label for=\"sk-estimator-id-2\" class=\"sk-toggleable__label sk-toggleable__label-arrow\">XGBClassifier</label><div class=\"sk-toggleable__content\"><pre>XGBClassifier(base_score=None, booster=None, callbacks=None,\n",
       "              colsample_bylevel=None, colsample_bynode=None,\n",
       "              colsample_bytree=None, device=None, early_stopping_rounds=None,\n",
       "              enable_categorical=True, eval_metric=None, feature_types=None,\n",
       "              gamma=0.1, grow_policy=None, importance_type=None,\n",
       "              interaction_constraints=None, learning_rate=0.11, max_bin=None,\n",
       "              max_cat_threshold=None, max_cat_to_onehot=None,\n",
       "              max_delta_step=None, max_depth=None, max_leaves=None,\n",
       "              min_child_weight=None, missing=nan, monotone_constraints=None,\n",
       "              multi_strategy=None, n_estimators=20, n_jobs=None,\n",
       "              num_parallel_tree=None, random_state=None, ...)</pre></div></div></div></div></div>"
      ],
      "text/plain": [
       "XGBClassifier(base_score=None, booster=None, callbacks=None,\n",
       "              colsample_bylevel=None, colsample_bynode=None,\n",
       "              colsample_bytree=None, device=None, early_stopping_rounds=None,\n",
       "              enable_categorical=True, eval_metric=None, feature_types=None,\n",
       "              gamma=0.1, grow_policy=None, importance_type=None,\n",
       "              interaction_constraints=None, learning_rate=0.11, max_bin=None,\n",
       "              max_cat_threshold=None, max_cat_to_onehot=None,\n",
       "              max_delta_step=None, max_depth=None, max_leaves=None,\n",
       "              min_child_weight=None, missing=nan, monotone_constraints=None,\n",
       "              multi_strategy=None, n_estimators=20, n_jobs=None,\n",
       "              num_parallel_tree=None, random_state=None, ...)"
      ]
     },
     "execution_count": 8,
     "metadata": {},
     "output_type": "execute_result"
    }
   ],
   "source": [
    "### XGBoost\n",
    "\n",
    "XGBC_model = XGBClassifier(enable_categorical = True, n_estimators=20, learning_rate=0.11, gamma = 0.1)\n",
    "XGBC_model.fit(X_train, y_train)"
   ]
  },
  {
   "cell_type": "code",
   "execution_count": 9,
   "id": "0aa33d48",
   "metadata": {
    "execution": {
     "iopub.execute_input": "2025-03-07T09:11:07.385636Z",
     "iopub.status.busy": "2025-03-07T09:11:07.385272Z",
     "iopub.status.idle": "2025-03-07T09:11:07.480083Z",
     "shell.execute_reply": "2025-03-07T09:11:07.479094Z"
    },
    "papermill": {
     "duration": 0.10304,
     "end_time": "2025-03-07T09:11:07.482069",
     "exception": false,
     "start_time": "2025-03-07T09:11:07.379029",
     "status": "completed"
    },
    "tags": []
   },
   "outputs": [
    {
     "data": {
      "text/plain": [
       "(0.9409462783003517, 0.9412219903589916)"
      ]
     },
     "execution_count": 9,
     "metadata": {},
     "output_type": "execute_result"
    }
   ],
   "source": [
    "train_probs2 = XGBC_model.predict_proba(X_train)[:, 1]\n",
    "val_probs2 = XGBC_model.predict_proba(X_val)[:,1]\n",
    "roc_auc_score(y_val,val_probs2,max_fpr=.01), roc_auc_score(y_train, train_probs2, max_fpr=.01)"
   ]
  },
  {
   "cell_type": "code",
   "execution_count": 10,
   "id": "c54dbdcc",
   "metadata": {
    "execution": {
     "iopub.execute_input": "2025-03-07T09:11:07.493225Z",
     "iopub.status.busy": "2025-03-07T09:11:07.492890Z",
     "iopub.status.idle": "2025-03-07T09:11:07.590943Z",
     "shell.execute_reply": "2025-03-07T09:11:07.589804Z"
    },
    "papermill": {
     "duration": 0.105855,
     "end_time": "2025-03-07T09:11:07.592981",
     "exception": false,
     "start_time": "2025-03-07T09:11:07.487126",
     "status": "completed"
    },
    "tags": []
   },
   "outputs": [],
   "source": [
    "scaler = StandardScaler()\n",
    "X_train_scaled = scaler.fit_transform(X_train)\n",
    "X_val_scaled = scaler.transform(X_val)"
   ]
  },
  {
   "cell_type": "code",
   "execution_count": 11,
   "id": "0b74b2ae",
   "metadata": {
    "execution": {
     "iopub.execute_input": "2025-03-07T09:11:07.604477Z",
     "iopub.status.busy": "2025-03-07T09:11:07.604121Z",
     "iopub.status.idle": "2025-03-07T09:16:13.417745Z",
     "shell.execute_reply": "2025-03-07T09:16:13.416597Z"
    },
    "papermill": {
     "duration": 305.826821,
     "end_time": "2025-03-07T09:16:13.425042",
     "exception": false,
     "start_time": "2025-03-07T09:11:07.598221",
     "status": "completed"
    },
    "tags": []
   },
   "outputs": [
    {
     "name": "stderr",
     "output_type": "stream",
     "text": [
      "/usr/local/lib/python3.10/dist-packages/sklearn/linear_model/_sag.py:350: ConvergenceWarning: The max_iter was reached which means the coef_ did not converge\n",
      "  warnings.warn(\n"
     ]
    },
    {
     "data": {
      "text/html": [
       "<style>#sk-container-id-3 {color: black;background-color: white;}#sk-container-id-3 pre{padding: 0;}#sk-container-id-3 div.sk-toggleable {background-color: white;}#sk-container-id-3 label.sk-toggleable__label {cursor: pointer;display: block;width: 100%;margin-bottom: 0;padding: 0.3em;box-sizing: border-box;text-align: center;}#sk-container-id-3 label.sk-toggleable__label-arrow:before {content: \"▸\";float: left;margin-right: 0.25em;color: #696969;}#sk-container-id-3 label.sk-toggleable__label-arrow:hover:before {color: black;}#sk-container-id-3 div.sk-estimator:hover label.sk-toggleable__label-arrow:before {color: black;}#sk-container-id-3 div.sk-toggleable__content {max-height: 0;max-width: 0;overflow: hidden;text-align: left;background-color: #f0f8ff;}#sk-container-id-3 div.sk-toggleable__content pre {margin: 0.2em;color: black;border-radius: 0.25em;background-color: #f0f8ff;}#sk-container-id-3 input.sk-toggleable__control:checked~div.sk-toggleable__content {max-height: 200px;max-width: 100%;overflow: auto;}#sk-container-id-3 input.sk-toggleable__control:checked~label.sk-toggleable__label-arrow:before {content: \"▾\";}#sk-container-id-3 div.sk-estimator input.sk-toggleable__control:checked~label.sk-toggleable__label {background-color: #d4ebff;}#sk-container-id-3 div.sk-label input.sk-toggleable__control:checked~label.sk-toggleable__label {background-color: #d4ebff;}#sk-container-id-3 input.sk-hidden--visually {border: 0;clip: rect(1px 1px 1px 1px);clip: rect(1px, 1px, 1px, 1px);height: 1px;margin: -1px;overflow: hidden;padding: 0;position: absolute;width: 1px;}#sk-container-id-3 div.sk-estimator {font-family: monospace;background-color: #f0f8ff;border: 1px dotted black;border-radius: 0.25em;box-sizing: border-box;margin-bottom: 0.5em;}#sk-container-id-3 div.sk-estimator:hover {background-color: #d4ebff;}#sk-container-id-3 div.sk-parallel-item::after {content: \"\";width: 100%;border-bottom: 1px solid gray;flex-grow: 1;}#sk-container-id-3 div.sk-label:hover label.sk-toggleable__label {background-color: #d4ebff;}#sk-container-id-3 div.sk-serial::before {content: \"\";position: absolute;border-left: 1px solid gray;box-sizing: border-box;top: 0;bottom: 0;left: 50%;z-index: 0;}#sk-container-id-3 div.sk-serial {display: flex;flex-direction: column;align-items: center;background-color: white;padding-right: 0.2em;padding-left: 0.2em;position: relative;}#sk-container-id-3 div.sk-item {position: relative;z-index: 1;}#sk-container-id-3 div.sk-parallel {display: flex;align-items: stretch;justify-content: center;background-color: white;position: relative;}#sk-container-id-3 div.sk-item::before, #sk-container-id-3 div.sk-parallel-item::before {content: \"\";position: absolute;border-left: 1px solid gray;box-sizing: border-box;top: 0;bottom: 0;left: 50%;z-index: -1;}#sk-container-id-3 div.sk-parallel-item {display: flex;flex-direction: column;z-index: 1;position: relative;background-color: white;}#sk-container-id-3 div.sk-parallel-item:first-child::after {align-self: flex-end;width: 50%;}#sk-container-id-3 div.sk-parallel-item:last-child::after {align-self: flex-start;width: 50%;}#sk-container-id-3 div.sk-parallel-item:only-child::after {width: 0;}#sk-container-id-3 div.sk-dashed-wrapped {border: 1px dashed gray;margin: 0 0.4em 0.5em 0.4em;box-sizing: border-box;padding-bottom: 0.4em;background-color: white;}#sk-container-id-3 div.sk-label label {font-family: monospace;font-weight: bold;display: inline-block;line-height: 1.2em;}#sk-container-id-3 div.sk-label-container {text-align: center;}#sk-container-id-3 div.sk-container {/* jupyter's `normalize.less` sets `[hidden] { display: none; }` but bootstrap.min.css set `[hidden] { display: none !important; }` so we also need the `!important` here to be able to override the default hidden behavior on the sphinx rendered scikit-learn.org. See: https://github.com/scikit-learn/scikit-learn/issues/21755 */display: inline-block !important;position: relative;}#sk-container-id-3 div.sk-text-repr-fallback {display: none;}</style><div id=\"sk-container-id-3\" class=\"sk-top-container\"><div class=\"sk-text-repr-fallback\"><pre>LogisticRegression(C=1, max_iter=3000, random_state=0, solver=&#x27;saga&#x27;)</pre><b>In a Jupyter environment, please rerun this cell to show the HTML representation or trust the notebook. <br />On GitHub, the HTML representation is unable to render, please try loading this page with nbviewer.org.</b></div><div class=\"sk-container\" hidden><div class=\"sk-item\"><div class=\"sk-estimator sk-toggleable\"><input class=\"sk-toggleable__control sk-hidden--visually\" id=\"sk-estimator-id-3\" type=\"checkbox\" checked><label for=\"sk-estimator-id-3\" class=\"sk-toggleable__label sk-toggleable__label-arrow\">LogisticRegression</label><div class=\"sk-toggleable__content\"><pre>LogisticRegression(C=1, max_iter=3000, random_state=0, solver=&#x27;saga&#x27;)</pre></div></div></div></div></div>"
      ],
      "text/plain": [
       "LogisticRegression(C=1, max_iter=3000, random_state=0, solver='saga')"
      ]
     },
     "execution_count": 11,
     "metadata": {},
     "output_type": "execute_result"
    }
   ],
   "source": [
    "log = LogisticRegression(max_iter=3000, solver='saga', C = 1, random_state=0)\n",
    "log.fit(X_train_scaled, y_train)"
   ]
  },
  {
   "cell_type": "code",
   "execution_count": 12,
   "id": "779b1535",
   "metadata": {
    "execution": {
     "iopub.execute_input": "2025-03-07T09:16:13.436730Z",
     "iopub.status.busy": "2025-03-07T09:16:13.436321Z",
     "iopub.status.idle": "2025-03-07T09:16:13.511973Z",
     "shell.execute_reply": "2025-03-07T09:16:13.510958Z"
    },
    "papermill": {
     "duration": 0.083274,
     "end_time": "2025-03-07T09:16:13.513631",
     "exception": false,
     "start_time": "2025-03-07T09:16:13.430357",
     "status": "completed"
    },
    "tags": []
   },
   "outputs": [
    {
     "data": {
      "text/plain": [
       "(0.9160063881486518, 0.8989094628780376)"
      ]
     },
     "execution_count": 12,
     "metadata": {},
     "output_type": "execute_result"
    }
   ],
   "source": [
    "train_probs3 = log.predict_proba(X_train_scaled)[:,1]\n",
    "val_probs3 = log.predict_proba(X_val_scaled)[:,1]\n",
    "roc_auc_score(y_val,val_probs3,max_fpr=.01), roc_auc_score(y_train, train_probs3, max_fpr=.01)"
   ]
  },
  {
   "cell_type": "code",
   "execution_count": 13,
   "id": "85ff7c70",
   "metadata": {
    "execution": {
     "iopub.execute_input": "2025-03-07T09:16:13.526024Z",
     "iopub.status.busy": "2025-03-07T09:16:13.525674Z",
     "iopub.status.idle": "2025-03-07T09:16:14.285103Z",
     "shell.execute_reply": "2025-03-07T09:16:14.283843Z"
    },
    "papermill": {
     "duration": 0.767605,
     "end_time": "2025-03-07T09:16:14.287019",
     "exception": false,
     "start_time": "2025-03-07T09:16:13.519414",
     "status": "completed"
    },
    "tags": []
   },
   "outputs": [
    {
     "name": "stderr",
     "output_type": "stream",
     "text": [
      "/usr/local/lib/python3.10/dist-packages/sklearn/base.py:432: UserWarning: X has feature names, but LogisticRegression was fitted without feature names\n",
      "  warnings.warn(\n"
     ]
    }
   ],
   "source": [
    "test_probs1 = rf.predict_proba(test)[:,1]\n",
    "test_probs2 = XGBC_model.predict_proba(test)[:,1]\n",
    "test_probs3 = log.predict_proba(test)[:,1]"
   ]
  },
  {
   "cell_type": "code",
   "execution_count": 14,
   "id": "5af92337",
   "metadata": {
    "execution": {
     "iopub.execute_input": "2025-03-07T09:16:14.299089Z",
     "iopub.status.busy": "2025-03-07T09:16:14.298742Z",
     "iopub.status.idle": "2025-03-07T09:16:14.305082Z",
     "shell.execute_reply": "2025-03-07T09:16:14.304246Z"
    },
    "papermill": {
     "duration": 0.014212,
     "end_time": "2025-03-07T09:16:14.306767",
     "exception": false,
     "start_time": "2025-03-07T09:16:14.292555",
     "status": "completed"
    },
    "tags": []
   },
   "outputs": [],
   "source": [
    "training_data_stack = np.column_stack((train_probs1,train_probs2,train_probs3))\n",
    "train_stack = np.column_stack((val_probs1,val_probs2,val_probs3))\n",
    "test_stack = np.column_stack((test_probs1,test_probs2,test_probs3))"
   ]
  },
  {
   "cell_type": "code",
   "execution_count": 15,
   "id": "6586d894",
   "metadata": {
    "execution": {
     "iopub.execute_input": "2025-03-07T09:16:14.318669Z",
     "iopub.status.busy": "2025-03-07T09:16:14.318280Z",
     "iopub.status.idle": "2025-03-07T09:16:14.381356Z",
     "shell.execute_reply": "2025-03-07T09:16:14.380239Z"
    },
    "papermill": {
     "duration": 0.071119,
     "end_time": "2025-03-07T09:16:14.383325",
     "exception": false,
     "start_time": "2025-03-07T09:16:14.312206",
     "status": "completed"
    },
    "tags": []
   },
   "outputs": [],
   "source": [
    "final_model = LogisticRegression(max_iter=5000, solver='lbfgs', random_state=0)\n",
    "final_model.fit(train_stack,y_val)\n",
    "\n",
    "training_predictions = final_model.predict_proba(train_stack)[:,1]\n",
    "training_data_predictions = final_model.predict_proba(training_data_stack)[:,1]\n",
    "test_probs = final_model.predict_proba(test_stack)[:,1]"
   ]
  },
  {
   "cell_type": "code",
   "execution_count": 16,
   "id": "36313800",
   "metadata": {
    "execution": {
     "iopub.execute_input": "2025-03-07T09:16:14.398133Z",
     "iopub.status.busy": "2025-03-07T09:16:14.397787Z",
     "iopub.status.idle": "2025-03-07T09:16:14.456819Z",
     "shell.execute_reply": "2025-03-07T09:16:14.455787Z"
    },
    "papermill": {
     "duration": 0.068321,
     "end_time": "2025-03-07T09:16:14.458596",
     "exception": false,
     "start_time": "2025-03-07T09:16:14.390275",
     "status": "completed"
    },
    "tags": []
   },
   "outputs": [
    {
     "data": {
      "text/plain": [
       "(0.9434301073314448, 0.9452016909493719)"
      ]
     },
     "execution_count": 16,
     "metadata": {},
     "output_type": "execute_result"
    }
   ],
   "source": [
    "roc_auc_score(y_val,training_predictions,max_fpr=.01), roc_auc_score(y_train,training_data_predictions,max_fpr=.01)"
   ]
  },
  {
   "cell_type": "code",
   "execution_count": 17,
   "id": "9bfb4256",
   "metadata": {
    "execution": {
     "iopub.execute_input": "2025-03-07T09:16:14.471093Z",
     "iopub.status.busy": "2025-03-07T09:16:14.470741Z",
     "iopub.status.idle": "2025-03-07T09:16:14.476569Z",
     "shell.execute_reply": "2025-03-07T09:16:14.475628Z"
    },
    "papermill": {
     "duration": 0.013943,
     "end_time": "2025-03-07T09:16:14.478072",
     "exception": false,
     "start_time": "2025-03-07T09:16:14.464129",
     "status": "completed"
    },
    "tags": []
   },
   "outputs": [
    {
     "data": {
      "text/plain": [
       "((113918,), (113918, 28))"
      ]
     },
     "execution_count": 17,
     "metadata": {},
     "output_type": "execute_result"
    }
   ],
   "source": [
    "test_probs.shape, test.shape"
   ]
  },
  {
   "cell_type": "code",
   "execution_count": 18,
   "id": "cc8249d8",
   "metadata": {
    "execution": {
     "iopub.execute_input": "2025-03-07T09:16:14.490737Z",
     "iopub.status.busy": "2025-03-07T09:16:14.490340Z",
     "iopub.status.idle": "2025-03-07T09:16:14.541240Z",
     "shell.execute_reply": "2025-03-07T09:16:14.539962Z"
    },
    "papermill": {
     "duration": 0.059145,
     "end_time": "2025-03-07T09:16:14.543058",
     "exception": false,
     "start_time": "2025-03-07T09:16:14.483913",
     "status": "completed"
    },
    "tags": []
   },
   "outputs": [
    {
     "name": "stdout",
     "output_type": "stream",
     "text": [
      "   Feature  Gini Importance\n",
      "14     X17         0.272027\n",
      "11     X14         0.205812\n",
      "8      X11         0.141282\n",
      "13     X16         0.081013\n",
      "1       X4         0.038553\n",
      "7      X10         0.031874\n",
      "18     X21         0.027385\n",
      "0       X2         0.019367\n",
      "2       X5         0.019321\n",
      "23     X26         0.016983\n",
      "17     X20         0.016316\n",
      "9      X12         0.012595\n",
      "5       X8         0.011750\n",
      "4       X7         0.011490\n",
      "25     X28         0.010931\n",
      "24     X27         0.009616\n",
      "26     X29         0.009263\n",
      "19     X22         0.007853\n",
      "12     X15         0.007697\n",
      "3       X6         0.007529\n",
      "21     X24         0.006020\n",
      "15     X18         0.006017\n",
      "16     X19         0.005899\n",
      "27    Time         0.005875\n",
      "6       X9         0.005509\n",
      "22     X25         0.004655\n",
      "20     X23         0.003863\n",
      "10     X13         0.003503\n"
     ]
    }
   ],
   "source": [
    "# Built-in feature importance (Gini Importance)\n",
    "importances = rf.feature_importances_\n",
    "feature_imp_df = pd.DataFrame({'Feature': X_train.columns, 'Gini Importance': importances}).sort_values('Gini Importance', ascending=False) \n",
    "print(feature_imp_df)"
   ]
  },
  {
   "cell_type": "code",
   "execution_count": 19,
   "id": "bd6e7b39",
   "metadata": {
    "execution": {
     "iopub.execute_input": "2025-03-07T09:16:14.556210Z",
     "iopub.status.busy": "2025-03-07T09:16:14.555859Z",
     "iopub.status.idle": "2025-03-07T09:16:14.796377Z",
     "shell.execute_reply": "2025-03-07T09:16:14.795601Z"
    },
    "papermill": {
     "duration": 0.249176,
     "end_time": "2025-03-07T09:16:14.798132",
     "exception": false,
     "start_time": "2025-03-07T09:16:14.548956",
     "status": "completed"
    },
    "tags": []
   },
   "outputs": [],
   "source": [
    "submission = pd.DataFrame({'id':test.index, 'Label':test_probs})\n",
    "submission.set_index('id').to_csv(\"submission.csv\")"
   ]
  }
 ],
 "metadata": {
  "kaggle": {
   "accelerator": "none",
   "dataSources": [
    {
     "databundleVersionId": 11038147,
     "sourceId": 92664,
     "sourceType": "competition"
    }
   ],
   "dockerImageVersionId": 30918,
   "isGpuEnabled": false,
   "isInternetEnabled": false,
   "language": "python",
   "sourceType": "notebook"
  },
  "kernelspec": {
   "display_name": "Python 3",
   "language": "python",
   "name": "python3"
  },
  "language_info": {
   "codemirror_mode": {
    "name": "ipython",
    "version": 3
   },
   "file_extension": ".py",
   "mimetype": "text/x-python",
   "name": "python",
   "nbconvert_exporter": "python",
   "pygments_lexer": "ipython3",
   "version": "3.10.12"
  },
  "papermill": {
   "default_parameters": {},
   "duration": 357.98076,
   "end_time": "2025-03-07T09:16:15.524731",
   "environment_variables": {},
   "exception": null,
   "input_path": "__notebook__.ipynb",
   "output_path": "__notebook__.ipynb",
   "parameters": {},
   "start_time": "2025-03-07T09:10:17.543971",
   "version": "2.6.0"
  }
 },
 "nbformat": 4,
 "nbformat_minor": 5
}
